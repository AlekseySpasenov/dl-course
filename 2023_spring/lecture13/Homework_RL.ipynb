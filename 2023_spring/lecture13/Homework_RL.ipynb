{
  "cells": [
    {
      "cell_type": "markdown",
      "id": "3801d352",
      "metadata": {
        "id": "3801d352"
      },
      "source": [
        "## Домашнее задание : \"Обучение с подкреплением\""
      ]
    },
    {
      "cell_type": "markdown",
      "id": "e0c3d037",
      "metadata": {
        "id": "e0c3d037"
      },
      "source": [
        "ФИО:"
      ]
    },
    {
      "cell_type": "markdown",
      "id": "9528f5be",
      "metadata": {
        "id": "9528f5be"
      },
      "source": [
        "# Задание 1\n",
        "\n",
        "Обучите алгоритм Q-learning для сред FrozenLake-v1 и Blackjack-v1, в частности подберите оптимальную alpha. (1 балл)"
      ]
    },
    {
      "cell_type": "markdown",
      "id": "89eab25f",
      "metadata": {
        "id": "89eab25f"
      },
      "source": [
        "# Задание 2\n",
        "\n",
        "Обучите алгоритм Policy Gradients (или Actor Critic) для среды https://www.gymlibrary.dev/environments/atari/breakout/ . Продемонстрируйте, что для обученного агента растет время игры. (3 балла)"
      ]
    },
    {
      "cell_type": "code",
      "execution_count": null,
      "id": "0fd0b061",
      "metadata": {
        "id": "0fd0b061"
      },
      "outputs": [],
      "source": []
    },
    {
      "cell_type": "code",
      "source": [],
      "metadata": {
        "id": "oxUCo_3oEKyD"
      },
      "id": "oxUCo_3oEKyD",
      "execution_count": null,
      "outputs": []
    }
  ],
  "metadata": {
    "kernelspec": {
      "display_name": "Python 3 (ipykernel)",
      "language": "python",
      "name": "python3"
    },
    "language_info": {
      "codemirror_mode": {
        "name": "ipython",
        "version": 3
      },
      "file_extension": ".py",
      "mimetype": "text/x-python",
      "name": "python",
      "nbconvert_exporter": "python",
      "pygments_lexer": "ipython3",
      "version": "3.9.15"
    },
    "colab": {
      "provenance": []
    }
  },
  "nbformat": 4,
  "nbformat_minor": 5
}