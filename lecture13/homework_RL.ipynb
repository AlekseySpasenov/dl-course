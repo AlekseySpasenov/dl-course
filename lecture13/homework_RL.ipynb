{
 "cells": [
  {
   "cell_type": "markdown",
   "id": "3801d352",
   "metadata": {
    "id": "3801d352"
   },
   "source": [
    "## Домашнее задание : \"Обучение с подкреплением\""
   ]
  },
  {
   "cell_type": "markdown",
   "id": "e0c3d037",
   "metadata": {
    "id": "e0c3d037"
   },
   "source": [
    "ФИО:"
   ]
  },
  {
   "cell_type": "markdown",
   "id": "9528f5be",
   "metadata": {
    "id": "9528f5be"
   },
   "source": [
    "# Задание 1\n",
    "\n",
    "Обучите алгоритм Q-learning для сред FrozenLake-v1 4x4 и Blackjack-v1, в частности подберите оптимальную alpha.(1 балл)\n",
    "\n",
    "Обучите алгоритм Q-learning для среды FrozenLake-v1 8x8. Придумайте как обойти проблему отсутствия положительных наград в случайных эпизодах игры. (2 балла)"
   ]
  },
  {
   "cell_type": "markdown",
   "id": "89eab25f",
   "metadata": {
    "id": "89eab25f"
   },
   "source": [
    "# Задание 2\n",
    "\n",
    "Обучите алгоритм Policy Gradients (или Actor Critic) для среды https://www.gymlibrary.dev/environments/atari/breakout/ . Продемонстрируйте, что для обученного агента растет время игры. (2 балла)"
   ]
  },
  {
   "cell_type": "code",
   "execution_count": null,
   "id": "0fd0b061",
   "metadata": {
    "id": "0fd0b061"
   },
   "outputs": [],
   "source": []
  },
  {
   "cell_type": "code",
   "execution_count": null,
   "id": "oxUCo_3oEKyD",
   "metadata": {
    "id": "oxUCo_3oEKyD"
   },
   "outputs": [],
   "source": []
  }
 ],
 "metadata": {
  "colab": {
   "provenance": []
  },
  "kernelspec": {
   "display_name": "Python 3 (ipykernel)",
   "language": "python",
   "name": "python3"
  },
  "language_info": {
   "codemirror_mode": {
    "name": "ipython",
    "version": 3
   },
   "file_extension": ".py",
   "mimetype": "text/x-python",
   "name": "python",
   "nbconvert_exporter": "python",
   "pygments_lexer": "ipython3",
   "version": "3.8.12"
  }
 },
 "nbformat": 4,
 "nbformat_minor": 5
}
