{
  "nbformat": 4,
  "nbformat_minor": 0,
  "metadata": {
    "colab": {
      "provenance": []
    },
    "kernelspec": {
      "name": "python3",
      "display_name": "Python 3"
    },
    "language_info": {
      "name": "python"
    }
  },
  "cells": [
    {
      "cell_type": "code",
      "execution_count": null,
      "metadata": {
        "id": "5HmwpqzwnMyE"
      },
      "outputs": [],
      "source": [
        "!git clone https://github.com/dariush-bahrami/character-tokenizer.git"
      ]
    },
    {
      "cell_type": "code",
      "source": [
        "!pip install transformers"
      ],
      "metadata": {
        "id": "hkVexA2nnRQ5"
      },
      "execution_count": null,
      "outputs": []
    },
    {
      "cell_type": "code",
      "source": [
        "import string\n",
        "import sys\n",
        "sys.path.append(\"/content/character-tokenizer\")\n",
        "from charactertokenizer import CharacterTokenizer\n",
        "\n",
        "chars = \"АаБбВвГгДдЕеЁёЖжЗзИиЙйКкЛлМмНнОоПпРрСсТтУуФфХхЦцЧчШшЩщЪъЫыЬьЭэЮюЯя\"\n",
        "model_max_length = 64\n",
        "tokenizer = CharacterTokenizer(chars, model_max_length)"
      ],
      "metadata": {
        "id": "5FaCG9ajnS_G"
      },
      "execution_count": null,
      "outputs": []
    },
    {
      "cell_type": "code",
      "source": [
        "example = \"Привет\"\n",
        "tokens = tokenizer(example)\n",
        "print(tokens)"
      ],
      "metadata": {
        "id": "I5FSPMOSncpI"
      },
      "execution_count": null,
      "outputs": []
    },
    {
      "cell_type": "markdown",
      "source": [
        "Задание: обучите модель классификации букв для задачи расстановки ударения с помощью методов из библиотеки transformers. Датасет для обучения можно взять отсюда: https://github.com/Koziev/NLP_Datasets/blob/master/Stress/all_accents.zip\n",
        "\n",
        "1. Напишите класс для Dataset/Dataloder и азбейте данные на случайные train / test сплиты в соотношении 50:50. (1 балл)\n",
        "2. Попробуйте несколько моделей: Bert, Albert, Deberta. (3 балла)\n",
        "Пример конфигурации для deberta: https://huggingface.co/IlyaGusev/ru-word-stress-transformer/blob/main/config.json"
      ],
      "metadata": {
        "id": "KQkp36rEoScR"
      }
    }
  ]
}