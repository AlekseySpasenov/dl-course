{
  "cells": [
    {
      "cell_type": "markdown",
      "metadata": {
        "id": "MVYHErNYR4Lv"
      },
      "source": [
        "# Домашняя работа: \"Методы оптимизации\""
      ]
    },
    {
      "cell_type": "markdown",
      "metadata": {
        "id": "98xn3ZQ2R4Lw"
      },
      "source": [
        "ФИО:"
      ]
    },
    {
      "cell_type": "markdown",
      "metadata": {
        "id": "6zjWGdRCyLeV"
      },
      "source": [
        "## Описание задания:\n",
        "Вам необходимо реализовать оставшиеся методы оптимизации, которые разбирались на лекции: <b>Momentum, AdaDelta, Adam</b>. Сравнение методов оптимизации нужно провести на примере из семинара, а также при обучении сверточной нейронной сети на датасете MNIST.\n",
        "\n",
        "\n",
        "\n",
        "## Задание разделено на следующие части:\n",
        "1.1 Реализация методов Momentum, AdaDelta, Adam **(1 балл)**\n",
        "\n",
        "1.2 Сравнение реализованных методов **(1 балл)**\n",
        "\n",
        "2.1 Реализация сверточной нейронной сети и обучение ее на MNIST **(2 балла)**\n",
        "\n",
        "2.2 Сравнение графиков обучения для нейросети на реализованных методах **(1 балл)**\n",
        "\n",
        "## Срок выполнения задания:\n",
        "Данное задание можно сдать без штрафов до 10 октября."
      ]
    },
    {
      "cell_type": "code",
      "execution_count": 4,
      "metadata": {
        "id": "YVLnzoEwR4Lw"
      },
      "outputs": [],
      "source": [
        "from functools import partial\n",
        "\n",
        "import numpy as np\n",
        "import torch\n",
        "from tqdm.auto import tqdm\n",
        "from torch import nn\n",
        "import matplotlib.pyplot as plt\n",
        "from matplotlib import cm\n",
        "from matplotlib.pyplot import cm\n",
        "from matplotlib.colors import LogNorm\n",
        "from matplotlib import animation\n",
        "from mpl_toolkits import mplot3d\n",
        "from matplotlib.gridspec import GridSpec\n",
        "from torchvision import datasets, transforms\n",
        "from IPython.display import HTML\n",
        "%matplotlib inline\n",
        "plt.rc('animation', html='html5')"
      ]
    },
    {
      "cell_type": "markdown",
      "metadata": {
        "id": "bwGWExtOR4Lx"
      },
      "source": [
        "## Часть 1: Реализация методов"
      ]
    },
    {
      "cell_type": "code",
      "execution_count": null,
      "metadata": {
        "id": "-ZDSjRdcR4Lx"
      },
      "outputs": [],
      "source": [
        "# https://github.com/dzlab/deepprojects/blob/master/visualization/Optimizers_in_Action.ipynb\n",
        "\n",
        "def grid_samples(center=[0, 0], offset=5, size=100):\n",
        "    range1 = np.linspace(center[0]-offset, center[0]+offset, size)\n",
        "    range2 = np.linspace(center[1]-offset, center[1]+offset, size)\n",
        "    return torch.from_numpy(np.stack(np.meshgrid(range1, range2))).float()\n",
        "\n",
        "\n",
        "def mse(y, y_hat):\n",
        "    return ((y - y_hat) ** 2).mean(axis=-1)\n",
        "\n",
        "\n",
        "def msre(y, y_hat):\n",
        "    return ((y - y_hat) ** 2).mean(axis=-1).sqrt()\n",
        "\n",
        "\n",
        "def mae(y, y_hat):\n",
        "    return ((y - y_hat).abs()).mean(axis=-1)\n",
        "\n",
        "\n",
        "class LossAnimator:\n",
        "    def __init__(self, X, y):\n",
        "        self.X = X\n",
        "        self.y = y\n",
        "        self.size = len(X)\n",
        "\n",
        "    def loss_func(self, W, loss):\n",
        "        shape = W.shape\n",
        "        return loss((self.X @ W.view(shape[0], -1)).T, self.y).view(shape[1:])\n",
        "\n",
        "    def plot_loss_funcs(self, weights, fcts, titles, view=(20, 50)):\n",
        "        num_fcts = len(fcts)\n",
        "        fig = plt.figure(figsize=(7 * num_fcts,7))\n",
        "        for i in range(num_fcts):\n",
        "            loss = self.loss_func(weights, loss=fcts[i])\n",
        "            ax = fig.add_subplot(1, num_fcts, i+1, projection='3d')\n",
        "            ax.plot_surface(*weights, loss, cmap='viridis')\n",
        "            ax.set_xlabel('w0'); ax.set_ylabel('w1'); ax.set_zlabel('Loss')\n",
        "            ax.set_title(titles[i])\n",
        "            ax.view_init(*view)\n",
        "\n",
        "    def _init_animation(self, epochs, train_data):\n",
        "        self.train_data = train_data\n",
        "        self.epochs = epochs\n",
        "        self.nmethods = len(train_data)\n",
        "\n",
        "        weights = grid_samples(offset=5)\n",
        "\n",
        "        max_loss = max([data['losses'].max() for data in train_data.values()])\n",
        "        loss_curve = self.loss_func(weights, loss=mse)\n",
        "        colors = cm.rainbow(np.linspace(0, 1, self.nmethods))\n",
        "\n",
        "\n",
        "        self.fig = plt.figure(figsize=(14, 8))\n",
        "        self.gs = GridSpec(2, 2, width_ratios=[1, 2.5])\n",
        "\n",
        "        self.ax0 = self.fig.add_subplot(self.gs[0,0])\n",
        "        self.lines0 = {\n",
        "            name: self.ax0.plot([], [], c=c, label=name)[0]\n",
        "            for name, c in zip(train_data.keys(), colors)\n",
        "        }\n",
        "        self.ax0.scatter(self.X[:,0], self.y, c='orange', label='Ground truth')\n",
        "        self.ax0.set_ylim(self.y.min(), self.y.max())\n",
        "        self.ax0.set_title('Ground truth & Model', fontsize=16)\n",
        "        self.ax0.legend(loc='lower right')\n",
        "\n",
        "        self.ax1 = self.fig.add_subplot(self.gs[:,1], projection='3d')\n",
        "        self.ax1.plot_surface(*weights, loss_curve-0.5, cmap='viridis', alpha=0.8)\n",
        "        self.ax1.view_init(50, 70)\n",
        "        self.lines1 = {\n",
        "            name: self.ax1.plot3D([], [], [], c=c, marker='o', alpha=0.9, label=name)[0]\n",
        "            for name, c in zip(train_data.keys(), colors)\n",
        "        }\n",
        "        self.ax1.set_title('Loss', fontsize=16, pad=20)\n",
        "        self.ax1.set_xlabel('w0')\n",
        "        self.ax1.set_ylabel('w1')\n",
        "        self.ax1.set_zlabel('Loss')\n",
        "        self.ax1.legend()\n",
        "\n",
        "        self.ax2 = self.fig.add_subplot(self.gs[1,0])\n",
        "        self.lines2 = {\n",
        "            name: self.ax2.plot([], [], c=c, label=name)[0]\n",
        "            for name, c in zip(train_data.keys(), colors)\n",
        "        }\n",
        "        self.ax2.set_title('Loss', fontsize=16)\n",
        "        self.ax2.set_ylabel('loss')\n",
        "        self.ax2.set_ybound(0, max_loss)\n",
        "        self.ax2.set_xlim(0, epochs)\n",
        "        self.ax2.legend(loc='center right')\n",
        "\n",
        "        self.fig.tight_layout()\n",
        "        self.fig.subplots_adjust(top=0.85)\n",
        "\n",
        "        plt.close()\n",
        "\n",
        "        return self.fig\n",
        "\n",
        "    def _animate(self, i):\n",
        "        steps = np.arange(i+1)\n",
        "        left = max(0, i-20)\n",
        "        for name, data in self.train_data.items():\n",
        "            # plot ground truth & model\n",
        "            self.lines0[name].set_data(self.X[:, 0], self.X @ data['weights'][i])\n",
        "\n",
        "            # plot loss (output of the sampling)\n",
        "            self.lines1[name].set_data(data['weights'][left:i+1, 0], data['weights'][left:i+1, 1])\n",
        "            self.lines1[name].set_3d_properties(data['losses'][left:i+1])\n",
        "\n",
        "            self.lines2[name].set_data(steps, data['losses'][:i+1])\n",
        "\n",
        "        self.fig.suptitle(f'Epoch: {i}/{self.epochs}', fontsize=22)\n",
        "\n",
        "    def animate(self, epochs, train_data, step_skip=1):\n",
        "        self._init_animation(epochs, train_data)\n",
        "        anim = animation.FuncAnimation(self.fig, self._animate, frames=range(0, epochs, step_skip), interval=100 * step_skip)\n",
        "        return HTML(anim.to_html5_video())"
      ]
    },
    {
      "cell_type": "code",
      "execution_count": null,
      "metadata": {
        "colab": {
          "base_uri": "https://localhost:8080/",
          "height": 467
        },
        "id": "yQmhIHb3R4Ly",
        "outputId": "30f8c42c-eade-4b52-d8a6-5581fd4c37ca"
      },
      "outputs": [],
      "source": [
        "size = 100\n",
        "X = torch.ones(size, 2)\n",
        "X[:, 0].uniform_(-1., 1)\n",
        "\n",
        "y_hat = 3 * X[:, 0] + 2\n",
        "y = y_hat + torch.randn(size)\n",
        "\n",
        "loss_animator = LossAnimator(X, y)\n",
        "\n",
        "plt.scatter(loss_animator.X[:,0], loss_animator.y, label='y');\n",
        "plt.scatter(loss_animator.X[:,0], y_hat, label='y_hat');\n",
        "plt.xlabel('X')\n",
        "plt.ylabel('y')\n",
        "plt.legend()"
      ]
    },
    {
      "cell_type": "code",
      "execution_count": null,
      "metadata": {
        "colab": {
          "base_uri": "https://localhost:8080/",
          "height": 538
        },
        "id": "KHZ-o8XlR4Ly",
        "outputId": "57542637-6f6d-4f2b-fe80-e392b7abde72"
      },
      "outputs": [],
      "source": [
        "weights = grid_samples()\n",
        "loss_animator.plot_loss_funcs(weights, [mse, msre, mae], ['MSE', 'MSRE', 'MAE'])"
      ]
    },
    {
      "cell_type": "code",
      "execution_count": 2,
      "metadata": {
        "id": "d1OiY2zqR4Ly"
      },
      "outputs": [],
      "source": [
        "class Optimizer:\n",
        "    def __init__(self, params):\n",
        "        self.params = list(params)\n",
        "\n",
        "    def zero_grad(self):\n",
        "        for param in self.params:\n",
        "            if param.grad is not None:\n",
        "                param.grad.detach_()\n",
        "                param.grad.zero_()\n",
        "\n",
        "    def pre_step(self):\n",
        "        pass\n",
        "\n",
        "    def step(self):\n",
        "        pass\n",
        "\n",
        "    def update_param(self, p):\n",
        "        raise NotImplementedError()\n"
      ]
    },
    {
      "cell_type": "code",
      "execution_count": null,
      "metadata": {
        "id": "f6nqI31YR4Lz"
      },
      "outputs": [],
      "source": [
        "def optimize_function(fn, optim, optim_args, start_point, num_iter = 50):\n",
        "    weigths = nn.Parameter(torch.FloatTensor(start_point), requires_grad=True)\n",
        "\n",
        "    optim = optim(params=[weigths], **optim_args)\n",
        "    points = []\n",
        "    losses = []\n",
        "    for i in range(num_iter):\n",
        "        if hasattr(optim, 'pre_step'):\n",
        "            optim.pre_step()\n",
        "        loss = fn(weigths)\n",
        "        points.append(weigths.data.detach().clone())\n",
        "        losses.append(loss.item())\n",
        "        loss.backward()\n",
        "        optim.step()\n",
        "        optim.zero_grad()\n",
        "    points = torch.stack(points, axis=0)\n",
        "    losses = torch.FloatTensor(losses)\n",
        "    return points, losses\n"
      ]
    },
    {
      "cell_type": "code",
      "execution_count": null,
      "metadata": {
        "id": "vbN_90V4R4Lz"
      },
      "outputs": [],
      "source": [
        "def compare_optimizers(\n",
        "    loss_animator,\n",
        "    fn,\n",
        "    optim_list,\n",
        "    start_point,\n",
        "    num_iter = 50,\n",
        "    step_skip = 1\n",
        "):\n",
        "    data = {}\n",
        "    loss_func = partial(loss_animator.loss_func, loss=fn)\n",
        "    for name, optim, args in optim_list:\n",
        "        points, losses = optimize_function(loss_func, optim, args, start_point, num_iter)\n",
        "        data[name] = {\n",
        "            'weights': points,\n",
        "            'losses': losses,\n",
        "        }\n",
        "\n",
        "    return loss_animator.animate(num_iter, data, step_skip=step_skip)"
      ]
    },
    {
      "cell_type": "markdown",
      "metadata": {
        "id": "7fMY6QH_1n-1"
      },
      "source": [
        "Реализация методов SGD и AdaGrad с семинара:"
      ]
    },
    {
      "cell_type": "code",
      "execution_count": 3,
      "metadata": {
        "id": "gEevGcYX1VK8"
      },
      "outputs": [],
      "source": [
        "class SGD(Optimizer):\n",
        "    def __init__(self, params, lr=1e-2):\n",
        "        super().__init__(params)\n",
        "        self.lr = lr\n",
        "\n",
        "    def step(self):\n",
        "        with torch.no_grad():\n",
        "            for p in self.params:\n",
        "                if p.grad is None:\n",
        "                    continue\n",
        "                p -= self.lr * p.grad"
      ]
    },
    {
      "cell_type": "code",
      "execution_count": null,
      "metadata": {
        "id": "lpWyliqW1Wra"
      },
      "outputs": [],
      "source": [
        "class AdaGrad(Optimizer):\n",
        "    def __init__(self, params, epsilon=1e-8, eta=1e-2):\n",
        "        super().__init__(params)\n",
        "        self.epsilon = epsilon\n",
        "        self.eta = eta\n",
        "\n",
        "        self.G = [0] * len(self.params)\n",
        "\n",
        "    def step(self):\n",
        "        with torch.no_grad():\n",
        "            for i, p in enumerate(self.params):\n",
        "                if p.grad is None:\n",
        "                    continue\n",
        "\n",
        "                self.G[i] += p.grad ** 2\n",
        "\n",
        "                p -= self.eta / torch.sqrt(self.G[i] + self.epsilon) * p.grad"
      ]
    },
    {
      "cell_type": "markdown",
      "metadata": {
        "id": "FEsMV1SKR4Ly"
      },
      "source": [
        "### 1.1 Реализуйте методы Momentum, AdaDelta, Adam. **(1 балл)**"
      ]
    },
    {
      "cell_type": "markdown",
      "metadata": {
        "id": "xqBcH6CqzB3z"
      },
      "source": [
        "#### Momentum\n",
        "![Momentum.png](data:image/png;base64,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)"
      ]
    },
    {
      "cell_type": "code",
      "execution_count": null,
      "metadata": {
        "id": "eER9h8I3ScHN"
      },
      "outputs": [],
      "source": [
        "class Momentum(Optimizer):\n",
        "    def __init__(self, params, lr=1e-2, gamma=0.9):\n",
        "        super().__init__(params)\n",
        "        pass\n",
        "\n",
        "    def step(self):\n",
        "        pass"
      ]
    },
    {
      "cell_type": "markdown",
      "metadata": {
        "id": "z9gj0aFUzF_f"
      },
      "source": [
        "#### AdaDelta\n",
        "![AdaDelta.png](data:image/png;base64,iVBORw0KGgoAAAANSUhEUgAAAdEAAADXCAIAAADKj/xlAAAAAXNSR0IArs4c6QAAAARnQU1BAACxjwv8YQUAAAAJcEhZcwAADsMAAA7DAcdvqGQAAFQXSURBVHhe7Z11eBTX24bTAsEtQPFC0OAECZBiCe7uWixIgQDB3a24FneHosHdKe7u0GDFrdDf993smcy1ZCUb2wTy3n9whTlnZmePPO/zzpyZdfg/QRAEwV6I5gqCINgP0VxBEAT7IZorCIJgP0RzBUEQ7IdoriAIgv0QzRUEQbAformCIAj2QzRXEATBfojmCoIg2A/RXEEQBPshmisIgmA/RHMFQRDsh2iuIAiC/RDNFQRBsB+iuYIgCPZDNFcQBMF+iOYKgiDYD9FcQRAE+yGaKwiCYD9EcwXBDAcOHNhtxKlTp7SCCMmbN2/Onj2rnauBy5cvf/jwQSsWIhKiuYJghooVK7r7U7hw4fbt22sFtoEIPnz48PXr19r/w5ibN2927dpVO10Do0aNevTokVYsRCREcyM779+///vvv+9Y5cGDB8jHf//9p+1jA1R+8eKFtr8/fNC7d++0Gjbz+PFjbX9/OB+tLDDQvitXruzcuXP+/PkjDSxcuPDw4cPPnj1TX+f8+fMzZ8708/NT9XV++uknBwcHV1dXT0/P0qVL9+3bVyuwAb74ggULWrVqNW/evCdPnmhbQ8Dnz5/v3bu3du3aCRMm/P777/yByBp3x61bt3r16sWpQqZMmaJHj96mTRt20YqFiIRobqTmf//7H3rUrFmzhlZp2rRphw4d0J2JEydu3rwZTWFH7RAWQCjHjRvXqFEj7RANG/J3y5YtV69eHei+xpDU89EBjtO6dWvkW6thgU+fPl26dAmFqlWrVrFixQoVKuTm5pY7d25kFA3t2bMnyThyjDJmyZKFv7Xd/FGai3QePHgQjb5x44ZWEBh8u+3btxcsWJDdc+bM6evri2JqZcGCsMFBWrRokc9AfgMdO3Y0vtzx9u3bixcvcqrQpUuXpEmTiuZGWERzIzVKc5s0aVK9evWMGTMiE4pcuXIhVfXr169bty5/VKhQgXmeLFkyJjN//Pbbb5s2bcIga0cxB5o7duxYdi9ZsmSSJEnUYX/88UcvL69Xr15plQLj6dOnHAHXpnZ3cnIqX758nTp10FzriTNRYc2aNTVr1uRLeXh4DBw4EHu7cePGP//8c9q0aY0bN86QIQNfmQqJEiX65Zdfrl27pu3pj9Jc0+2BgmXu3Llz7Nix2T1KlCjt27e/e/euVhZ0SC8WLVpUoEABzoduWrly5fLly6tUqUJTdOrUyeyRp0yZ8vPPP4vmRlhEcyM7zGpM3OnTp3FSBmVzSJMmzaRJky5cuHD58mWsItn3iRMnduzYMWfOHBQQNYkWLRqGa/r06XhJ7SgmUIT6sPuqVauQDHVkQOmuX7+uVbIKuTOqnSBBAm1PB4fevXsfP34cQ0dmbcUsv3v3jg/F0vJFvL29sX7G11VxndhbDoUwEQM4LJ7R0rWFoGou58xHZ8uWzXC+X+AcVqxY8fHjR61GUMC9Ll26NEeOHPHjxycXoTHZyKGIH8S/rFmzcmRV0xjR3AiOaK7whWfPnuFelUxUrlwZCdYKjECtEOJKlSo5OjpSLX369AcOHNDKLEMdFxcXDDLqw16k+bbsBfv27SM3x4TqPvfWrVtamWXQ+v379/MpGFjE9Pbt22bV+c6dO9WqVVNHJpagblqBP8HTXM6wZcuWmTNnLlSokO7uGzVqdPXqVa2GzfBFDh06RMIRNWrUokWLGl/9oAFplpgxY3bv3v3NmzfaVn9EcyM4ornCF86cOUPGqjTCx8fHSuY+e/Zs3Xt269bN+sVZTNmyZctSpEiBUpcpU4Zd8IAkyFqxZTCeOGIgoY4VKxY7YvdscYuIbLt27RBTT0/PkydPaltN4LRHjRqFW+S7IO7G96MUwdDcf//9d/78+WnTpuWc165dW65cuS9t5ODAoebNm2cq61bg9B48eFCjRg12p/VIKYzbmYhIXKSItAPLr231RzQ3giOaK3xh/fr1mEqmcYwYMSZPnox8aAUmbNy4EQv5RUscHEqVKmVdc58+fTpw4MAsWbIgcOraReLEiceOHasVWwBDPXToUFdX161btxYpUgSjx47e3t6B3oziZLZv3548eXI0t23bttY1es2aNRhSDOPFixe1TUYEQ3M5Tr169YgNpPzYz4kTJ6J9X5rJwaFChQrnz5/X6tnAhw8fFi1aFDt2bFKKsmXLBrj0QSzhgBwWWT9x4oS21R/R3AiOaK6gXTlVt33QR1RVKzDHpEmT4sePb1CSL1mzdc0lp65Zsya6Sb7fv39/dkFAccdWNB3QTQIAMn3lyhVnZ2f1WbYseECqcJpURqp+++03U/dqzObNmzHdmOKHDx9qm4wIqua+e/cOsUuZMmX79u1VlnDjxo2qVasazt0hbty4RLKXL1+qyoHy+PFjDw8PdiR+zJ07V9vqz6FDh4oWLUopdQ4ePKht9Uc0N4Ijmiv835MnTzp27GgQB4cqVaqYvZirQDVwWNGiRVOVzd7DMebw4cMZM2ZEdl+8eDF16lS1V7Nmzaxcu7h//z5ShWFEr5FFpX1w584drYZlcJcoDpV/+OEHvohp3m2M0txZs2aZzfqDqrn4zfLlyxcoUABvrmLDp0+fkEt9NQhF1Ak0bAA7+vr6xowZk72yZs1qGhL4CLZTivLu3btX2+qPaG4ERzRX+OpibufOnTFZWsHXYBtHjBiRJEkSFI2aderUefr0qVZmDlJ7RDlZsmR9+/ZFazCqSZMmZcfKlSufO3dOq/Q1+F8qu7m5bdu2jd0HDRoUL148dsmXL5/pzSJT2GXBggVfvoZhYZmXl9eFCxcsuV0iDe7777//NlshSJpLRBk9enSqVKl69eplbGb9/PxIBdQtx+jRow8ZMsR6iylevXpVt25ddokVK1bTpk0DnB4tyXdUilyyZMmjR49qBf6I5kZwRHOF/9uwYUOOHDmYw8zkCRMmmL1sihkkbce1qfVVaAGJv3XXhr4MGDAgc+bMq1at4r979uzJnz8/+xYqVGjHjh2qTgA2btyYM2fOsWPHPn/+nIOXLVtWeWofHx9bbqCxC3m3q6sru0D8+PE5Wq1atcaMGbNz507kNcBXQ84sfYUgae6BAwfc3d09PT2PHDmibTLAwdetW6culIOzszMqbykGKCj966+/VKQhRC1atEgr8AdFJvKpA5qNXqK5ERzR3MgOk3z8+PExYsRgDpNrr1+/XiswgLskQ2fmly5dOmXKlFGjRnVxcZk4cSKZvnXtgOvXr1erVg0xUgtLUYfq1avzKenTp1+4cKGqY8zt27cRkcaNG6PmHPzBgwfotfLUf/75Z6A30BTPnj0bPHjwF0HyB4OJgKZLl464gv5OnTr1xo0bgZ687ZpLWkBoSZMmDVJo+pwIEtmuXbs4ceJwNMIVaYTpWmBjPnz4gFk2nLgD0nnw4MG7X4OxbdKkiapAW5k+Bi2aG8ERzY3sIBmdOnVScxhjWLBgwSoGKlWqVKBAgaxZs+JtkydPjt/EdU6aNOn8+fPoiHWHqzh27Fjq1KmrVq2qXnCFBKglwKTMyJOqo4ON7dmzJxZ4+/bt6g7b5s2bU6RIoU7s1q1btnwiIKYEie7du+uLK4xR+psvX74VK1ZYX7xlo+ZyVpwwcah8+fIqtJiCt1UGHxImTEj9T5afJSHI6ZUdHR2JT5m+huCh7mHSI3xN07uRorkRnLDV3JcvX54+ffrq1avWnxMVwpEzZ87ot9cR2fbt2+PFoGPHjnXq1MH5KgscM2bMQYMGkZ7bqH1o6MqVK5MkSaK/Heb169dDhw7lUFjXLl26BLg+u2bNGnLwcePGvXjxQm3h49RCYIRY32gLyC5ul3x/yJAhJUqUQOa+fDcjokSJwmft3bvXynexUXPv379PxEIZsc+WlFRZVz0GNGzY0Mo7eihS139p9jJlytBQAUDc1XGIZzNmzNB2MyKCa64Kit7e3l5eXjbmLt8ZYai57969Iw6nSpXK2dl59erVtlyPCzZPnz7duXMnU7pFixZdu3YlFf3nn3+0MsEqmzZtQliZw7inMWPGPDeCVkVTFi9enCFDBoQS8UIHbVzwxL79+/fHlyGmagsCh0YoQSEpNl6HcP369cqVKzdr1ozwrHSQf/WLuYyiYLyNjPmMyuPi1fqHwYMHFylSRD1eAcguccWK9tmiuXzEhg0bSAJIC6wcCi5cuODu7q4+mui1du1a5f0DwLfetWuXqpYsWbKtW7cSbIyhO/QrJ4STAJePFTZqLgaZOrVq1QrSwxrBhl7g68yePZteJn2JHTt2rly5jJ/JjjyEoeYigurtSkzXevXq2Xg7IqgwdHx9fZWdoSNJHhnTyEft2rXpZq2SYAFUY9KkSeqhA1dXV/RXKzCCYDl+/HgkgDq08IkTJwK9GAp4GXV1wrgX1q1bh3xznHLlyh0/flxtJAfq1q0bkrRjxw7d+KAXajkUEEGtJOOBgpCxO8ry6NGjFStW5M2bVx3W09PT9HViOrZoLt+xadOmWbJkWbp0qfU24XuNGjUKdVYfXbJkSbOCyEGWLFmi6qRNm9bUN9y4cePXX3+lFBeM5zWbPtqoucQhDuLk5GTLE9UhR2UtfFyFChVcXFz4CkR629929D0RVpqLMWnbti1uwjB+vlx7Wr58uem1pxCCixk4cCBhkw9CMrBRKAJ5HALBJ7Zu3dq6+xCQIR8fH9VH1atXt/Ss1L59+zJnzqyqoS9mPVoATp48mTRp0ooVKxrL5cGDB4sVK8ZB8uTJo+u70sGJEycaux5KEQ71iUibMr9W4JQQ9ytXrmj/twAjEI+ZO3duDksGxvfSCkwIVHMJRTQFxrlu3bq2eP+HDx8WLlzY8IW+PBgyd+5cU/OuQiAVGM9FixY1/da7d+8mdaBCvnz5EE1t69fYqLmkgxwnZcqUIYlntkMTMRmJIn5+ft7e3ny0aG4og2cpVKgQLavD0LT9JaS2QP/16dMH54WP9vDwYP4wehimz549I9dj1DKy169fH+pC/z1hvDK3U6dOZK9awdegU/rzYPPnzw/06jx6tHr16sSJE/fr10/bZODSpUtkPBwEx0eayZbLly9jh5s3bx7gZWOEUjwRNdFoW9a0cpxSpUo1atRI+79liNPVqlXjyLitw4cPa1tNCFRz0XfOnAR5y5Yt2iarMDLnzJmjBxI+3dRgornq0gHpGg2lbfXnzZs3kydPVgs5GjdubEnobdTc7NmzM0dsabHQhciq5F40NzQhgJP4qCt3OowV5mFoKSA9N3r0aHWPheSO9NPYFIwYMUItv/fy8gr05daRGV9fX5Xo0ZITJkzQtpowZMgQBPRLLzo4bNiwIdBOJOz17ds3Q4YMiLW2yQC2unPnzuo4JJuICC67QIEC27dv12oYoCvLli2rrnj07Nkz0Kt+1Cfi8hUYddomy6Dgasma9atP1jX37du3xIw4ceIgbfr1kEDh+xIY9ORv1KhRAa6lcij8PkXYZ9Pvcvbs2dKlS1NKly1ZskTbaoIVzeX4zE0+9P79+xyHXJCP479stP1bhBDR3DDRXGVyEVkVk3Xq1KkTKheP8LOkZkpVY8SIMXTo0ADOi3RVPXPp6uoaaL4ZaWGa6c/jGif7AUDRypUrpyvF8ePHja9dGoc6nTt37lSoUCFv3rwBMhvEeuTIkeo4HTp0QB3ooHHjxgWQnrt37+rPEaDagUo8WjZjxoy4cePa8qtlR48eLVKkCEceMGCAlR/Osa6558+fJ1SQ4P/111/aJtsgYqVLl87wzRwSJUqE6Bs3IA27cuVKivguw4YN07YaQBZnzpxJEXOqRo0aVhb5WtJcuhuxJpLRlfrE5G8geLRu3VqrF8aI5oa+5jIBunXrhsklJjdt2jR16tSqdxUY0hBaXcYo00YFfDX+TK9Cbtu2jR5Vnxjokz+RFlwnPaVaqWrVqpYu5uKJ3NzcVDUa3FiGbt++bboolQ46ffo0vhilNm35efPmqVVTdBAS0Lx5c9MrTgiTupSBHNhyI5RUBsmgvqenp/Vp/OHDBwy4k5NT+vTpMddWBoYVzX3x4sWYMWMSJkzYvXt3hCxIfPz4EX+tlt9Bp06dmC/acQ1Nd/jwYRoZn0tCoG31b1IPDw+KEPqtW7dqBeaw4nOZC0zANWvWqKvqfEf+hvXr11taXBzqiOaGsuYyODC57u7upC04GjqycuXK6mlRBQOOiarVDhbGSsGgwanxoVqZP7t371YPswLuwHhYCzpnzpyhd2giZjIO0dL1QbQYN6oaM1myZHqmQqvSyNg99V8dJtIff/yBJPXs2VPbZISvr6/uYTHCREetwB96s3///upibokSJaw/taUglVGrEbJkybJu3TqzN4U4LHq3ePHirFmzRo8effLkydYvWVjSXI5z4sSJDBkyEBXGjh1LeAgqKLV+oQYC5A30Qtq0abEsREE1sPlXrQKmm1KlSjV69GjrHiLQ67kcMFeuXBwNS6RtMgfVCBI0ZpBgF21/C4jmhrLm0og9evRgxJQpU0a9fWPSpEkBrC6zgtGv6gcVOnX58uX6mpuKFSuafQmWsc8dMWKELbeVIwlMVxL558+fk1YvWLAgZcqUNFHMmDF79+79zz//4OBMu4btRYsWZYpSM0WKFMqWkqww+YmsAwcOVNXoGmo+ePBgxYoVadKkITtu2bIliknjG2c2x44dK1u2LIdSy4H1e/d8LjU5wp07d8j9VZxGOJB4ztbKSgm+0b59+6jMLgw8wgADTO3C/FfC8d7w28aEZ0SZPBr9uhvYb5RZ0tynT58SSygKLerWrWssPbTDgAEDaFhOlcak6egpJhHfjoDXp0+fANdhTAlUc2mKqFGj0qHkHNomczx79oyG3RJEDhw4YN3iiOaGpuYyvnfu3PnLL7+QOg0fPlxNJ+YMykiSqEYY1KpVK9ARb4nr168TnNVxmGAMQbPyvWrVKrWkBqjDTNYKIj1kCePHj69SpQrdlDRpUuaeApVEChs1ahTgdpaCOKq/TmzlypV039q1a1HVjBkzqrZF+C5cuFChQgVydtRBHRM7SQUvLy+MoToO3Lx5s1mzZhShyPytbTX43xYtWpQvX54jEAPYnTGD2y1evHiNGjXIfy0ZKGb4tGnTqKx+VpLz5HvVrFlz7ty5R44cwaTv3bsXtcUEoPLp0qVjZNrinc1qLl8TJ2H2qeKQYPxEHH8QdQoWLJggQQKGOu3cpUuXePHi8e0GDRoUqOBCoJq7evVqmgusXLchgqqVJ3RBkGCXw4cPW3G7ormhqbm4JOySupKrTK7C1OqSYQXD6jIOmPDq1hm4u7vv2rVLK/sa5pj+if369cP1aAWRHlxqq1atyK/d3NyQs5IGPDw8ChUqlD17djaqd4AFgAb09vYmjDGjUK48efKQ5NL++i8sMMfILTJnzuzi4pIvXz6ODCSwbCHiGi+DRTXI6+vXr79//35tk4EJEybw6exCMPD09OSs+CNv3rwckIPQofS+VvVrMJ7MYSYwrg0/i9VCXgkhiCayhVrxL0KMDKHdu3fvtvF2glnNxTsjgpxP6IJKGosUyn7p0qVKlSoRIWhn1LZy5coMdbZrNawSqOa2b9+euEjKoh+QP0ybhfBMxrAoiLCLdSUVzQ01zSU+MyyYJ7FixRo6dKieM8Lt27fxLzgXgwZ+gdEfjKcVsMyYI3UElJ2hY2k9Kdmf/pQ9Ho0sSSsQgguicPr06RkzZvTv3x/DRdSMINkDPnfTpk3Lli3TFQTlxd4uWLCA82Qk8O+cOXNOnjxpPCYDxdK1BbtBgyOaeEb+tVFtFdY1l8PmyJGDlKV58+b6FnIU47gYpojmhprmYoVwlNGiRStVqpTpY+ATJ04kYhs0UGPjxo02Og4FI4Oppb9oCs9FUNXKvgZDhKaTOqma5JKWpFkQLBHumhtsrGvu33//rX6EafHixfwXq8R3JDE1fQQjjDDW3FC/0cLBsed37tzB5z158sRSbhS+hI7m0nNkbZjcuHHjDh482NRQ0AT6KndFtWrVgvS0Al51yJAh2s6GB/bPnDmjlX3Nw4cPSU61eg4O06ZNk3ULQlD5XjX37Nmz6kU/R48exT4zMdu2bZs9e/YAl3pCHZKPx48f+/n5Xb58Wb3/N0OGDExhtrA95K6Ig5w4cYLJ3rlz55o1ayIvJLjbt2/nyHzNp0+f3rx5k88KUsYQRoSO5pJmqputJUuWNPuuI8DqqrvkOvhW263uuXPn1I91A9rdunVrS4kJoydPnjyqJpB1BnhiQhAC5XvVXKYqs8PR0ZEJu3nz5i5duvBf6wsYQgUEsWfPnuhgy5YtSXk5AScnJ/JRPC/b58+fr9ULOh8/fkQcSLLV/Vu+e/78+dUth8SJE48fP/7SpUsDBw7ks/r27WvL7dOwJhQ0l9CxZ88ed3f3+PHj890sXTXD8JPCGFvdypUrE520YquQI6xfv16/RJssWbJx48ZpZSbMmDEjbdq0qiZhAAP+2V7PNQrfDd+r5sLOnTsbNGhQtGjR4sWLYzkt3YgOXfbu3Vu+fHmEr54RdevWxZCyPcB7OWwHtdm4caOHhwczPUqUKAULFmT6X7lyBQc9efLkjBkzxokThy+r1ABnbboe3P6EguYSOQcNGsR3tvRCT50JEyboS2sVvr6+tlxzITVAzbV9HBzSpUs3bNgwkiOzMIzixo2rajo7O1+4cEE7Spjxv//9j08hkeHrYN5DHQbK1atXraxRFUIdpbn79u1DucBGcxBeqGW86lSHDh2aIkUKK5oLjNi7d+8G6eJeBATBVatCsbd0Fkk2hpevpkoRloULF2IEDUrwBWra7VahFUKquZhcIlihQoUSJEjQv39/67eGsbq0C+qstYGDQ4UKFWxZVIDdUO8lURDQSByIaWYxXj5JFA32WmDbefHiRYsWLRjodHC8MABf361bNzt8EUFHaW7Dhg3bt2/fsWPHSZMmaQUREtRz+vTpnCoUK1ZMvXzHiuZ+B6A85L5Zs2ZVgps7d268bYDLtS9fvlRPWiqoE4zlUqFOSDVX3dpCRrH3eExtq2UmTpyoL7BVbN68OdDc/6+//tKfcXB0dFSXbMzCVFF9oCBnscNCMUZ848aNOUMMeFjAkXv16kXE0j5PCHvy5ctHXFekSZOG/FQriJBgSn799VftdA0wYB4+fKgVf4+cPXuW6KIMHDZrzZo1pjeH3r9/P2bMGCUF1ER/v/l7aHyB/fv3Yy2dnJxQN1tuVWHW1MUX1RBQtmxZ60tGUOSNGzcitao+40ndkTRLrVq1Yhp++h+iRo26cuVKKyk5rjxUlpFxhgcPHlywYMGssIEU6dKlSxFz4cv3Cr2JP1BMnjx5k4WXrkUQGMacoXa6Bvbs2fP6+/3lm1evXuHo9esG9evXN7tanAnet29fVSdx4sQjR47UCkygJs1lnxs/IdJcLOSwYcMQUAKOLSZXwYBIkiSJaggFVle/CmMK7cug16oafpHQ0kUZAl27du3UUhhwcXEx+zYGxa1bt4YPH45JjwjphiAItrNly5bM/j9cEiNGjA0W3ulMKCpRooSqljZt2h07dmgFX3P16lUUZuzYsefOndM2hSXB11xM7qFDh9zc3DD2BBPb12Pdu3cPjTZewFCuXDkrD5I/fvzY+K0iJAiWVPL27dscSqvn4ODt7W3lLgHGnDpx48Zdv369tum7xs/Pb9y4cb8LQoRn3rx5Vt4F8ebNmxYtWsSJE0dN8/z585u91YGNQxD0xU7ZsmUzu1AMeztmzBgydXRs2rRp2tawJPiai8nFJ2JyixQpEtQ3NxNVjO90RY8e3dKPOwEK27ZtW1XT0dHRy8vLUpZNuMuVK5eqSfRbsWKFpQsLHz9+TJMmDdXixYtHzNS2ftccP37c+JKOIERYsmfPbva9H4pTp06pV3cq+vTpY/YK4efPn319fVUddKNKlSpmL+Zevny5fv361Pnpp59mmPvt+lAnmJrL2R85ciRfvnxIJ985qA8dIKOFCxc2trqlSpWydBCClb7CjnZB6LWCr0FGe/XqlcDwaz1QqFAhK7/qeunSJVUtWbJk3/qKGRt5+PDh4MGDBwhChGfq1Kn665NMmT59+s/+PysHCKvZCwv4LaRJ1cHGjh49Wiv4mh07dqBj1ClQoIB9Vu8GU3P/+eefkSNHIpru7u76j2YHiSlTpuj6CAQiS7cprl+/XrFiRVXNxcVl6dKlWsHX0EnqxayAoaOJrbxObNasWVT78ccfixcvHhFuZQqCYCOtW7dWr4wAxBejavZu0Nu3b9WPMEHq1Kl3796tFRjB3J8zZ44Sojp16tjnd7yCo7mc6F9//eXq6po4cWIiSfDW6uMu0Wv9TTTg6elpdnnv1atXccGqDhHJbNvR6H/88Yf++Fn+/Pmx4VbEVGUTCH2wH4AJACb90aNH98MGjiwPRHzfbNy4cbU/f/75Z8jffvDs2TMcnHZEA5iS72Dpy+fPn6tUqaKvB61Ro4alJXH37t2LFy+eqpYpUyazv32HLdMXNnTu3Nk+Kz2Co7mc6KhRozC5BQsWPHnypLY16EybNk1/YAyiR49u9nYWPrdSpUqqTtGiRc2+2gZV+vXXX/XrlUOGDAmwLNfPz+/AgQN7DOzatUs9Dofm9ujRQ21Eo4P9ZjlCxdixYxs0aFC7du1aYUC9evUw5hH8USghJDCwc/iTO3fuli1bagXB5ezZszVr1tSOaIDpZtbTfFu8fPlS/RaiYsCAAWbTWfwWebOqwzTXf+gIqH/w4EE16xcvXqzfdW/cuDF+jo1Hjx59asPP+webIGsuXwadzZkzZ6JEiXr37h2MV4/rIJQFChTQre4PP/yA1TVdwHDnzp1GjRqpOiVLljT9yULw9fVVF2WASECbBjC5uGAOXsgAFVRNomXGjBnVxsqVK1t/cNkKePZixYqpn1EII5o2bUrs0T7vW4b+pUPJXaxw69atF4bXQWn72AD2hyir7e8PHxSMV8o9ePBA29+f2zb/gh/pDvkppnXSpEmdOnVq164d4R/fyhHUNUdOadCgQadOnQpgOUkZ6WVy4erVqxO5f//9d60guHAaGDeOBrg8HBKf+x28YA/F1LNeWLhwodlAwnjQFzslSJBgzJgxajt6tWXLlsKFC6tZj445GX55D1KlSqU2lilTJkwv7AZZc5kMyuSicWYtZ5BACvXltBA7dmwGqFbmD7lD+/btVQWa2/gHXRScUteuXZVlTpIkCfHc9CELkjXG8TAD6qYnEunq6qq2AHsF+0EvhvK8efO6dOnSIWzw8fFhGn8HL3hGRteuXVu+fHmsihWwHuSMJC69evVatmwZYmpl+bYCoezTp4+2vz/E0fnz5we6rzGMEyRP298fZCvQB6/5ariBESNGUB+jytBCQN3d3ZnVefLkIR0mh0N50UHkdfPmzQFu+yjNpXHOnz9/4cKFkD9CRmy7du0aRwNcc5w4cb4PzUU0GT9ftMDAjh07zF4wQROy+f8iIkmtfq2GyjTvyJEjmfKDBw/WnwxGExhsSgomT558+fJlVT8sCJrmMnzJWfgyITe5iidPnuTPn1+/OsMfHh4eAawuzYdcqgqUXjL5UWhjk2v2t7uBIY4QcyhgVlATf923b1+1BRiOQZqcAUAQmSf3wgaO/B1khUALk4IQQuim7Nmzqy4DtKl169ZEVoyhl5dX/fr1ixcvniJFCjyIi4sL+rt06VLrLUAyOHv2bHZHH/X3KDGcWrVqRedqlQLDz88Pj6Nfofrpp584kzZt2qDmZh9z0mHEkslynmnTpsVDjR49mhh5yACuirnNl0WFcQx4Ajhx4kSAwaY0N4xeY8ZUjR8//vehudCsWTP9x+oPHDhgNh8i1urLougU4+sPyK6SAtybens6NRl79L5BCb5IQZg+kBY0zeVcGU+olbOz85QpU4geIadBgwZ66wCDY/Xq1drnGaCNUFV1p5IBHWCZBAaE6arMMlOXuGd24YgO2Z+ak3yofd5iJxiDdBJCrl+/Tq996W/D/Q1mCEkG0YXexAwiPSdPnsQMUgeDRk9RZ/jw4VZmAkXMK3ZH+0gP1ZEBCb5qeXW9MUxdYrC+0h7GjRvHmXBizEYr8ZjxSSr6yy+/ECQIGEeOHAmQZhEPVq1apceYEiVK3PL/vXod0VzbmT59uv5rh6TFps7v2LFjDBhVwdHRkTFgtvsws/Xq1aMOHYeahcRyBYkgaC7nhC1Xj9yhcVmyZMkVGqRMmdL4SiiCbmp1z507h9pSisVes2aNttXwDAkTQ70KPUeOHEuWLAn0ziOTmW6gPqPQ7NV3wQ48fvwYB/qlvw2/A232fZuIIHpHph89enSqESktPbtpzJ49e9KnT58qVaqMGTOyV9GiRW18fR8Szy5YUfVxYOPC7dOnT1etWjVevHi4B6axWdvFeEbQcbgctlu3bqb30EVzbYdEVg+rnTt3DnC/Cxtn/JMF9Mv48eO1sq9hqOTOnZs6dluZqwiC5iJn5PjGq7vCCDLKlStXap9q4NmzZ0OHDqWIodO9e3flZBlA8+bNQ4VJITNkyPDHH3+QF6j6Vpg8ebKy1dgNu0U2IQAkK/r9YhTBym3iRYsW0emqZseOHbWtFvjw4cOCBQuwLei4Oj7OYPny5VqxZe7fv894aNy4cZMmTdQ7ktzc3MxeKAwA6jlkyBDccb58+bDYVpz49u3b1RVGnIHp4z+iubZDvzDZldVNliyZ/kMw5E/Dhg3De7Fdhzh36NAhtaMx9BRDS/V1jRo17HmD2lbNRZ7I0XAQ6puEKWhi8eLFja0u3gGri+VBXnPmzDl16tSdO3f26NGD86Gyq6vr3LlzAywOswSzUV0+pnu0TYLdIddGDekFEqaZM2dakaoNGzboj8x7enpqWy3w6NGjXr16kcVPmDBB+Wjit37P2hLMYR8fH8wRkxOpVa6iZ8+eZh1rAE6cOMFYpT7jyrovZvrgpxIkSHD48GHTYC+aGyTIUPF/CC6N5uzsTHwtX7583rx5UVhGC8rAdgUB2Gzui1yon0FAQIjlplEw7LBVc5kVjEilVnaAIBbgTjHedu/evYxvR0dH2pqGpnEZwRiTAwcO0Ky2mNZ3797pN1jYS9sq2BfGEgFPpfC5cuXaunWrVmAOppa+iLtFixbaVgtcunSpcuXK6lXOakYxYsnlrV/i//PPPzNlyjRjxozLly/rFwp9fX1tGVHkpGpE1axZ0/pig9u3b7u7u3NuZq8vi+YGlX/++QfjxZDImjUrdjVevHiEtK5dux45cmTx4sWGPvzyPCr9YrYfr1y5oi7mpkyZktxX22oXguBzMZ5q6YkdoEVML42TOV68eHH+/PnEMSbSrFmzaF8/Pz/rM8oYpqK6SRI7duzvafx9W9Blbdq0MUyKL/aQ7tYKTMDOGL+CDh3UCiywf//+NGnS1K1bl7E6bdo0tdevv/5qxYHeunULHWTqEuPXrVuntA84Sa2GVbDh6v5t/vz5rQcPNLdQoULYZ7PPtojmBgMmPpnNjRs3Lly4gDLQwrhXspMuXboY+vDLNJ84caJW+2v27dunrkKg1Nu3b9e22oUgXM+NCNCgeFWmIvCHlZzULHSAWmVSqlQpPfrRcwTM5s2bW3pFpBC6HD9+XF9iSfi0dFGIviay6hdzW7VqFeDOagAIyYsWLcJ1DhkyhP+uWbNG3VytVKmSpbcdEdfbt2/v5uZGvs9Y6tWrlwrJhQsXtjHZZOSoF9Rh2z09PYkKlnb89OnT9evXnzx5YnbQBklzsXgbN27kbBs1akS04FsrHX/16hVNZGrrvlfNtYS+RIQ82OwrD+mCZcuWqUWB1apVM15GQsP279//1KlT2v/DgG9Mc0MI2YQyTcYvGWIaFClSJEuWLPJwrX1ADV1cXOgFbAhu1Oxl09evXxMgU6RIoda0eHt7B9o76mJutmzZ1BPke/fuVQ8c8q8lI8PEy5QpEwkTYoRU6Z66T58+NiZPmKxmzZqxCzCHEyVKlC9fvt9++23JkiVXr14NkKuZTXIVNmouZ7Vnz56yZcvyQenTpy9Tpgz+OmnSpHXq1OnYsWPevHmrVq1q+jh+pNLce/fu6YkRrWo2BOLYhg8fTgVq0ll6X9+8eZMwVrp0abO33UKLyKW5TDA1hw8ePKi2YI7Uy3yHDh1qyz0TIYRgMUaOHKnuU+XOnTvAy4txaleuXJk6dSpWBUWms3LlyrV8+fIXL15YESwFO1aoUKFo0aLqHvT58+dr1qzJpzg7Oy9YsEDVMQaB8/DwaN269d27dzk4/6ZLl476sHnzZhsHA+6VEEJsUDvCjz/+SC4VN25cJycnvmDnzp2PHj0a6CuKbNHcly9fzpw5M23atDFjxqxSpQrpAtrh5+c3atQoviMfykfzoWvXrtV28Od70lwk9cyZM3xxS+Nh9uzZqiPQ06ZNm2pbv4a+bteuHXXIhPSLDwTIcePGpU6devDgwQFWWIcukUtzmZBqtqtn+5j/pBKkkxicMG1lQefvv//GWRgmxZdFC5kzZya1B+whyhUvXjy6A/lAbWvUqIHaPn361JY1W0AcxfHVqlVL1X/w4IF6ZJyjmb5zGRFs27ZtoUKFDh8+rOQVqVL3wcHGlbkKhGzp0qVZs2ZV+xqDCDo6OhI8+vXrhw3XdjBHoJpLNCIUoba0TKVKlXBkelQgUWvevLn6RKzufpN3kn0fmkuH+vj4oImMkOLFi5td080s1tdW0eyWfkuBQNW9e3fqUHnu3LlsYcyQ9JAkEafPnj0baIAPCZFLc0ePHq2u5w4cOJBo2bdvXwZx4cKFCZ5aDSGMMb6YS6jr2bMniTz06NHj119/dXV1VUsmkWPsG3ZG2y0wSCEXL178008/ka+oLW/fvh02bJj6INPX9C1cuDBjxoyzZs3SrxH36tVLvfrP09PT7OoiKyB/Dx8+JEI0btzY+HXaOnguPsvK48vWNZfj79u3DzNLHeLTnj17AogC31SdPCdgui7i+9Bc0iOCospTCWbESNPrP97e3spUUYGYbUk6sbQMAKSAwUa4IlrTRKlSpSJPOnbsWJgKLkQuzcXYEipVr9B50aJFa9asme0TWwg5amEW7Z8wYcIZM2Ywvo2hg7Zu3aoq0EFdu3a15TkXePz4MaqdJUsWEhdt0//9H5m4WpHWqFEj4/skly5d8vDwILvUYy0fTQBQA6N///7BXq3JcZjPSCdTul69esQADqggtFt5J5R1zb19+zZiSgW8W4cOHQJc90DK9ZdADRkyxLTFbNFczpwmqlq1Kh9kJTaEF3zlpk2bqu+oYJwYtwNGlS+oP0NYoEAB6yPn2bNn48aNIzGiMiONhm3SpImVH6cIRSKX5irIK4lsu3btsr6gUgh1kFT9dUX4NUu3ttBi/QopvjiAxJgFtSpdurS7u7uxtq5fv149ql62bFk9zcTYtmnTBgU8fPiw2gLspYQeNm/ebMvVjC8hwqohopQstZb/j//zr5Vnl61oLiK+atUqw6k55MyZ0/TnVC5fvly9enVK+YhFixaZnpUtmkvRxIkTOUiePHnu37+vbY0w8KXatm2rntoHWpW2YjgBnUXsrF27tiolcObNm9f6O4l0+NanTp3avXv33bt3OZS2NYyJjJorhBcEOWyamjZ169ZVV9VN2b9/v3pbAixdujTA3X+zHD16FNlCeowF+tChQ/hZDpI7d+4NGzawhdK5c+e6urrOmTPH2MzqC8uYsbZcaCKrJYXnPAOdqKi5/pTzsmXLLH0XK5rr5+fXqVMndYQyZcqYrmgkSKj36uXPn3/v3r3aViNs0VwShQYNGvD1CV3WY0l4QYZEPCA3xZYWKVKkS5cugwcP7tatW+XKlXGpUaNGxeQmS5Zs6tSpgd6xDF9EcwX7oV/MZdp0797d0mXTFStW6FdFMW6BTiHUc8mSJcYXcxVXrlxRv15KCjlz5kyk5OTJk8gWmTi+RqtkoGfPnqgSNVEcW641ocutWrUqXry4LY9O8HE4UOQM3bfk2a1o7vXr19XbR2PEiGH6+xF8qUmTJqm355i9mAvWNZcjwM2bN9OmTevk5NS/f3+1RSuOSBw5cqRdu3YZMmTgPNVjqPybKFGiXLly1a9ff8KECd/EdULRXMF+rF27Vt1WRmKmT5+ubTUBjWAuUQ22bt0aaKb/5MkT/E7mzJkDPKjGdv2RpIEDB2LlyE9xvgEe++b4JUqUUBdzqWb9yQvF2bNn8Vxly5YNdBkvIsuHIpc5c+a0dBsdrGjuxYsX1euvcOKmr8hCRr29vSkljKGqZi9iWtJchJXYw4cSnHD6HCR58uQoOFuw5zZeSbc/9NfTp085Q/XAqo3P/UccRHMFO4E8jRs3jokNVt6ex4wqWbLkj/5v9jhz5ozuDdXFO/W3MTdu3EA0CxYsGOCXPvjEUaNGqUO1bt16+PDhbm5uM2bMCHCLDCOp3vgFqHagEs9pcPJU5jwDXWJ4//79ChUqULlp06bG15oDYF1z1csJXVxcArxaGi5cuKAu5saNG3fevHlm1ceS5vJfQiBJADZZ3X1ydHTkv0CDWHoFohBCRHMFO/HgwYOOHTsysaF27dqWLuaim3kNP54EUaNG1XUKNTl27Jjp4lMUmZQTzQpwMVcxf/58tXgAF5wlS5YOHToEuKoAq1atUpcyYsWKZfrLT6ags6Sx1Hd1ddUfrjHLhw8fpk2b5uzsTC68ePFiK8shrGguLVCtWjX1FQK84/Tdu3dz585Vd/8IY2Z/EhssaS7NRXtu2bJl+fLlyDqtTdziv7Bnzx5ZQBlGiOYKdoLMukyZMqgDxpOU39LFXD2VBlJdXSL9/PwQl+LFi6v/KhDix48fjxgxImHChL169TJ1eZs3b0YZORSpt9n3l6M73bp1S5AgAXXKlSv3xNwvcgcA69qkSRPqo+bImaWX//IFN23ahBTGiROnf//+wX4m4p9//uELqgeL+/btq+IK3/TVq1dr1qxxd3dnR2jUqJHZi7lgSXN1aOS0adPShgMHDtQ2CWGGaK4QhpCnozVICSnw2LFjSVpRhxgxYnTu3BmBwMEhHFpVf168eOHh4aEuCFD/xo0b6Av61bNnT3RHT3jxjBzh+PHj6rUM6Fr9+vVPnTp1+/Zt4wuy+l075Hv69On67Ti8KjU5wtGjR/Vf5GvcuPGJEyf4RCuPlsL58+exzFGiRIkdO3aaNGnQQeIEysvBP3/+/PHjR74Cfnn27Nm5cuVCKDlsoAs/rWguIsv3Kly4cMyYMQkbnCESyTnwxbNly0YsYUfOH1m3dKHDuuZyzgcOHOAgqVKlCvTNbULIEc0VwhD16v5SpUqpV7GgtgqkqlixYjVq1DD7/kN2SZ06tdJBcnNkEbmMGzcuuqNkBRk6efIknvfnn39Wi4SAw2LWmjZteuzYMXUcuHPnTosWLVCcTp06GSfLq1evrlevHuKeLl069bSxo6Ojk5MTyXXZsmXJtS0tAiOKbNu2DcHNkCFDs2bNOAJq7ubmhvIuW7YMW433HD16dNWqVdXvA/Xp0wf9taLgCiuaC3woWUL16tWdnZ1pBCwt393FxQXNVTtiUefMmWPpU6xrLtFLXWcnkETAlbnfH6K5QhiC5JHyo2LoRYMGDXB80LBhw5o1a5LIs9Gs5iKsCMQvv/ySPn36lClTkj7nzJkTgcaBqgoI4r59+5Dy0qVLo244XKhYsSJbWrVqZbw84N27d/Pnz0dwMbzaJgNz587l09mldu3aSBhnxR9VqlThgBxkyZIlljQXE00pYjdq1CjUCv/u4+PDGSJYxAn0F9ONjufOnbtu3bobNmywlM4HwLrmAmEG7SZXaNKkCefJhxI2+Bbq2jehwsoPqlrXXFqbtiWHKFOmjFJt/v33338j+CrXbxfRXCEigsSQj+McJ0yYMHnyZATFUuJsZxCjs2fPIrv69WhMKA56y5YtmPHff/99/PjxixcvxmubXjaxQqCaawpRYcqUKXhzdiSMWbqYC9Y1l1yEOEEF9d5hoKl37txp6Y6cEEJEcwUh/LGkuQjrkydP7t69a3rL0c/PT71mAYvar18/KxJvRXOJbWQAHASHrlbvYd43btzo4eExePBgVUcIXURzBSH8Mau5CO6lS5fQ044dO/7555/Gl2sp2rp1a0HDS9kzZsy4YsUKK5eMrWgux8HPcpBUqVKdPHkSwd2zZ091A4He9xOCh2iuIIQ/ZjX3xYsXmE22Ozo61qlTB31U2//9998zZ840a9YsevToTk5OXbp0CfAwSACsaC5KfevWLXWH08fHZ+LEiY0bN65Vq5aVq8NCCBHNFYTwx6zm+vn51a9fn+0xYsRAB+/du4e2nj17Fldbt25dZBSh9PLyOnXqlBWTC9av56Lg27dv9/b2RtYR3GHDhvERWpkQBojmCkL4ozR369atly9fvnLlilrW9urVq2nTpqkFYW5ubu3atUNhUcaCBQtmzZq1UqVKo0ePpr5ZwX337h0GllJo3bp1nDhxLGmu4tOnT0i8vEvaDojmCkL4ozS3YsWK9erVa9iwIWaTjYjp06dPV65ciVx27NgRzW3fvn3Pnj3HjBmzfPnyixcvYlHV7qZgmXv06MHRAIGOFi2adc0V7IZoriCEP7/88ktGf1xcXAK8sxHxff/+/evXr9++ffufhbdBBuDcuXOVK1fWjmhgypQpEfAHICIhormCEP5s3LhxmT8rVqwI8LbJYPD8+fOtW7dqRzRw4cKFTzb8/oUQ1ojmCoIg2A/RXEEQBPshmisIgmA/RHMFQRDsh2iuIAiC/RDNFQRBsB+iuYIgCPZDNFcQBMF+iOYKgiDYD9FcQRAE+yGaKwiCYD9EcwVBEOyHaK4gCIL9EM0VBEGwH6K5giAI9kM0VxAEwX6I5gqCINgP0VxBEAT7IZorCIJgP0RzBUEQ7IdoriAIgv0QzRUEQbAformCIAj2QzRXEATBfojmCoIg2A/RXEEQBPshmisIgmA/RHMFQRDsh2iuIAiC/RDNFQRBsB+iuYIgCPZDNFcQBMF+iOYKgiDYD9FcQRAE+yGaKwiCYD9EcwVBEOyHaK4gCIL9EM0VBEGwH6K5giAI9kM0VxAEwX6I5gqCINgP0VxBEAT7IZorCIJgP0RzBeE74dWrVw8fPnz58uXnz5+1TULEIyJqLiPm+fPnly9f3rdv35YtWw4fPnzr1q3//e9/WrEQFGjMJ0+enD9/fvfu3du2bTt27BjTUisTviOYMvPnz+/Ro8eUKVNu3LihbQ0zmI8vXry4evXqgQMHGFf8e/Pmzffv32vFgmUinOa+fv364MGDI0eObN68ebFixXLmzFm6dOlOnTpt377948ePWiXBBpgVzMOdO3cOGjSoYcOGhQoVcnV1rVixYt++fY8ePSox7Dtjw4YNuXLlcnBwSJYs2fTp05lHWkEYgLaeOHFi0qRJXl5enp6eefLk8fDwaN++/fr16wnwWiXBAhFIc//7778HDx4sXLiwbNmyUaNGTZUqVcmSJcuUKZMxY8Zo0aLRr3heUQob+ffffzE7WB53d3dHR0fakJYsVapUihQpaFv+xvlKY343EFybNm0aN25cNBdq1KiBJmploc2jR49WrVpVpUqVBAkSMEkxRgynTJkyMcyYpMzfV69eaVUFc0QUzWX+3759e9iwYc7OznRejhw5hg4dev369Xv37o0fP57eRXaRD8mLbeHTp08XL14kOXBycooZMybtNnPmzLt376LC3bt3R3OjRIlSv379MLVCgj3BYGbPnl0JLvz000+TJ09++/atVhx6PH36dOLEienSpeNTMmTIMGDAgHPnzjFJJ0yYkCVLFjZie3fv3i3h3AoRQnPpIcR0xIgRuDDkgM4jOfrw4YMqvXPnTrly5ejOOHHiYNzURsESnz9/vnbtmo+PT/To0Yle+fPnZ0KqOUAmcfPmzTRp0tCYP/7444EDB+Rmy3fAy5cvmzRpoptcRVhY3RcvXkybNg1XxPFTpkyJzupXEu7fv9+qVSsGVbx48Yjrb968UdsFUyKE5hI8J02apPoyWbJkvXv3Ng7R5E2jRo2iCINWpEgRhEMrEExAW/Gz/fr1Y+j/8MMPNOnUqVONTQfzs0GDBjQmpRhhPbAJ3y6+vr5Zs2alT41JmjQphvTdu3dapRDz/v37hQsXqkmKvvfq1YuRppUZGDlypNL9SpUqnTlzRtsqmBD+msu0X7Zsmbr8HyNGjJo1a966dUsrM4D+rly58ss4cnBASh49eqQVCCYgqTgRUkvaignQtGnTAI6D/w4cOFA1pqurq1xe+NahQ5XJJUfkX0Kp6lxgKp08eVKrF2LIijJlyqSOTN5peuR58+ZlzJiR0jx58qxatUrbKpgQzpqLBTt16lTt2rVVX2bPnn3JkiVamT+I8rZt21SFWLFibdq0SSsQvubTp087duzw8PCgocjyChYsePDgQa3MH4wPKYVqTCC8Sd7wTbN169bMmTNHjx598ODBNWrUUE5TQcqI1Q2VVIZMtFq1asw+Dhs/fvzFixebXizGGCnnlCRJkiFDhhhnV4Ix4ay5//zzT//+/dVAcXR0bNSo0fPnz7Uyfz5+/Lhr164vg8jBgbFFd2oFwtfcvHnzt99+Uw3l5OTUqVMn03FPhjh9+nRVBwhg//77r1YmfGsQQZkyceLEyZ8//9GjR7EmBQoUMLa6qDCeRqsdXIjl48aNU8kTNGjQ4MqVK1qZEWvWrMHhqjotWrSQlZ2WCE/NxWHRT3nz5lX9RLiePXu2VmYEgXrLli2qDrrcoUMHrUAwglaaOXMm1kY1FK1KoNLKjGCWTpgwQdWB+fPny9z4dqGLM2TIEC1atLFjx2JFCaheXl6xY8fWetfBIXny5HR3CMPqxYsX1X1XwPQsXLjQ7C2yFStW5MyZU1UjEmCntALha8JTc/38/Nq0aaM6iVy4evXqZp+fIYuhO1U1hlfTpk21AsGIM2fO1KtXT7VS1KhRa9WqZfahIGbLgAEDVDWYNGlSqOSegv0hWGI5Mbmurq7Hjx9XG3EnBQsWDGB1z549q0qDwefPn0mY4sWLp45WuHBhS/fH5s2bRwBQ1erUqSPLOi0RbppL2rtq1So9GUmaNOnQoUO1sq958eKFbs3Q3ObNm2sFgj9kf9OnT9ezv6xZsy5atEgr+5pXr17RgKoaTJs2TTT3G2Xfvn3Ozs5RokQh8X/27JnaSKDFx8SMGVPrYIPVpUKwFwVig1KkSKEOhTEaM2YMhlor+xqKnJycVM26dev+/fffWoHwNeGmuYwS3eRCqVKlDh8+rJV9zePHj318fFQ1NLd27dpageAP2V/Dhg1VE+FxKleuTA6hlX0NGZ+6yab4/fffzdphIYKDhmJyY8eOnSNHjtOnT2tbDWB1CxUqpHWwATLIc+fOacVBAWPUs2dP/b5cypQpjxw5YvbmGOdDTVUNataseefOHa1M+Jpw09x169a5ubmpHooePXrHjh0tXVi8e/duxYoVVU1HR8e2bdtqBYIB5sDMmTOZD6qJUqVKNWLECK3MhEePHpGNqpowe/Zs8bnfIhiU1KlTE1+NTa7i3bt3zBHmlNbHDg4Y1bFjx5rVSuswWvTkCby9ve/fv6+VfQ0xvnXr1lo9w302S3ZYCB/N/e+//7p164aAqh7KkiXLvHnztDITrl69qlZiAyOpb9++WoFggInRoUMH1T6AxzF79wwwI3girZ6BNWvWyLqFb5H69evHihWLiXP+/HltkxGbN292d3fX+thAtWrVLl26pBXbzJw5c/QrubBy5UpLD1mcOXMGN63Vc3Bo1qyZ5E+WCB/NvXLlCtmH1j+GJdZHjx7Vyr4GmTh06JB+TyBGjBjjx4/XygQDu3fvLlGihGofYOhbemyECbN48WKtnoE9e/Z8+vRJKxa+EY4dO6ausWJyzS4PePPmTfv27XVPA6RBY8aM0Yptpnz58vpBMLxWlp1t2rTJWOW9vLy0AsGE8NFc/cEzRatWrUyX5SpevXo1a9YsrZ7hmYjly5drZYLhwsKECRMSJ06s2gdX4uPjYymLpJE7d+6saiouX74sz0R8czRq1ChmzJguLi4XLlyw1NcBRBDXUqVKlSBZ3Xv37un3xKB27dq3b9/WykyYOHGifnWLQdi7d2+tQDAhHDSXZJaZr99aJX6OHj3a0tD5+++/O3bsqGpC3LhxkQmtTPB/t4ieB+TIkQMnq5WZ4OfnV7hwYVUTUGp57d43x/Hjx5MnT06Pjx071pJTgZcvX3p7extb3VSpUv3+++9asQ1MmzZNPXimIL+0tORWzegff/xR1bS00F5QhIPm3rx5s2bNmrpMRIkSJU+ePK0tUL9+fcaKqskupFR2u/5I0u3r61u0aNHcuXPjysMCV1dXDw+PkFyh3rdvX+nSpVX7AJPEzc1NazsTGjZsqE9CGrNSpUpy0e2bo3HjxjFixEDXMK1WchRMzMaNG42tLhOtcuXKtlsWJmm0aNG0nR0cSpQo0bx5c20kfU2TJk0w3Vo9BwemzM6dO7WjCCaEg+bu3r2bXtH6xwBdG8cCiAhjRVVDL8iPtKOEPW/fvq1bty7nxgmEHXyp9OnTB3v55KJFi4zfKYWSckCt7UwwfkKJmoMHD5aH0L4tTp06lTRpUvoOx/rixQttqwWwpdhPPcpC6tSpySm1YqswIBMlSsQHaXsabqUwfrSR9DVsjxo1qlbPwaFWrVrXr1/XDiSYEA6aS95hHBULFizY3QKEUPUiZAVda+m5ibAAQ71y5cratWvjB8OOevXqTZ8+3dKllUBBNxn0qn3ix49fsmRJre1M8PLyMk4VmU5btmwJttbbH5rozp07xJj169dH2mvQv/76KxqaKVMmWy7EK6trvFYXZaxYseLVq1e1GhZgR+oYP1jBJO3QoYM2kkzQH99XMG0tLW8QIBw0t0ePHvoClOTJk48cOfKRBU6cOKG/cgwSJkxo6bkJBa7t1q1bL1++DLaEGcNBXr16xTznmGHH3bt3AzUslnj+/Hnbtm11M5I7d+558+ZpbWcCjam/iw9Q6qdPn1ppqCdPnvj5+UWQ1bv0KVJbtWrVVKlSkfNGwh/doqfOnDmTJEkSunvUqFE2XoinoXx8fIyt7s8//xzoVV0+a8WKFcYrfMeNG3fz5k1tJH0NE6Rx48ZaPQeHtGnTTpkyxcq4YkTduHHD9LVkkQd7a6563ad+uZ0gTCjWykw4d+6c/nAwaTiaYiV+olytWrUi5Pbp0yeSPANz6dIl8jjVPlC+fHlLq3nws2iu7nNpzPr161tZJebr61utWjV6Z926deFy/YEkg2+3YcMGokjPnj3LlSuXPn16df7Fixd/8OCBVi+UoCkYWqEO38KK+gQJXG3Lli0xqhkyZMCE2uj0qUYb4lJVv0O0aNEYJ9euXdNqmIO9evXqZXwx99ChQ5ZGC46boaLVc3AoU6aM6RtEde7du8f0z58/f5cuXbRNkQ97a+7ff/9tvDIXG2vpqUTGK8mvnuDEjRvX+gKUNWvWMBxxAeTXofiq5ojMkSNH1K8WKUg8bVxyh/FZu3atpXmLE6lXrx4tr56vD7YNDwl86JAhQzJnzuzs7JwuXTp3d3c9gS1WrJilp6GCAQ564sSJJUqUKBIGFC1adPjw4SF3APTU6dOnEydOzPAeMWKE2dd6WeLx48fGzx9BoFaXCI111S/RZsyY0ezLpxR//vlnvnz5VE1o06aNpUGofnyAiaz8k7Y18mFvzSXAVqpUSesfB4cOHTpYekaQscJ41eoZlpRZem5C4e3tnTBhQmo2bNjQ7Ps9vz927tyJ6VPtEydOHGKSJRl9+PAh/kLVZN4mS5bMyqv2cC4FChSgJhN17ty54eJz379/v23bNqThjz/+WL9+PT6rf//+6vxDV3Nx03Xq1NETr1CnatWqIX+DLV3QunVrOg6zf/36dUu9bBYqk0qqDlVgYAnVVmQUzcULo4yqPibJ0gtrODj9kihRIlWT6Eh/WTo9Pz8/1J9qMWLEoFm0rZEPe2su409f20TTDx061FLOgv9ldqma0aNHJ2excg2IQYmnUJEZpUavtYLvGsRIn0vMxunTp2sFX8MU+uuvv5ImTapqoqRt27a1kvOuWrUKg0lNFxeXrVu3alvtC6f3+vVr4jEOnYwH6z116lR1/qGruc+ePZs/f36LFi0I1aEOh128eHEIRyPdh8lNkiQJ333YsGHBWN6H2PXo0cP4WgFWd9y4cVqxCXwi1lWPQ3379rUUoRFuFFlX52rVqlkJMFevXlXvV0qQIMHIkSO1rZEPe2vugQMHdCVNnTo1Ca9W8DXI6/Lly/UXGjHgLL2cUIFb0ddCkL+EizWzP8uWLdPfEo34btiwQSv4GibM2LFjVTW8Eo1p/dpLnz591JtNatSoEeCdVeFF2GkupgxlRw4uhgEclsZHwrQPCxbMBdJBOs7Z2RmNC5LJVXACWF39lVJA3C1btuzNmze1Gl+DDUqTJg2fqCovXLjQkt0houi/8c6YQUkt1eS0Dx8+jNpSkzRrz549WkHkw96aS1vrj0K5urquWbNGK/gaRoOXl5eqxvggPFq/Vb1kyRIUnMqZMmUiD9W2hhgGK1nV7bDkwYMHwX4wgTiULVs21UrkAZa++JUrV/Q2J7do2rSplZhEUcWKFdXlP8Q3grx5Ouw0N4KD/BEgkydPjuscNGgQll8rCCIMY5XX6zBfLL26hA81Xpy7e/duswOGFKR169b6ou/y5ctbmXpv3rxhuKqauOwA70KLVNhbc4l1+vtbixcvbvZ5FZRu+/btSkOBpHjatGlamT/09759+9hdQR6n1p9lzZr1jz/+UBvPnTsXkt+1ZXyTZZM6VQ1LatWqRd4XvLvbOHrilmolPCnGSiswAt+xevVqfWIkTJiQVEMr8+fy5cvEQtVopBd6xuDt7b1p0yY2Muvu3r0bDIcVWkRazWWcd+rUCflLly4dRiTYqyCYU6RB+miB6NGjly5d2uz9PTQXT61r7vnz5812/f79+4sUKaLqODk5DRs2jLPVygw8fvxYn6RMJf2OAj6XCc7GXbt2hfxi9zeHvTUXHSSpUU1vKTAa3z3Dl1HNdI7RYYyYokWLqhvE6LK6qBQ3blwGFlsoQjIsLYqwhXfv3rVs2VKdRtjBaefMmTN4cubr66s/3NmgQQNcs1ZgBFrZqlUrVSdWrFiMe1NbTQXin2rJPHny6AKN+KqNyNzcuXODdLs8dImcmov2HT9+PFWqVNGiRevXr18IYx4ZVffu3VUbKjjypEmTtGIjEGjGlX4999atW1qBEZwMvlv//b0KFSoEmMtMH4I9BksNITc3N9y6qsykVhvpynr16oXWcrpvBXtrLrqAuVNNTw575MgRrcAf+pLO++WXX1SdNGnSmL3+cPr06V69evkYqF69urryS0ZMF6qNXbt2nTVrVkiW6eBzly1bhuyiU2GHl5cX4z54w27v3r36Wxxx+sirVuAPKSGGglSOClGjRiUanThxQiszYsKECSSeqt1ocDXZcufO3aJFC7URJ06QQ/i0HexO5NTc58+f0y90R4YMGUL+NK26qqvfAABlde/du6fV8Iea1apV0++MmY3lly5dwgypu9acHsllAJNLl5FRofKMn86dO5OHqaPFjx+/WbNmalzx7caMGSOaG7bQMQiN6s4yZcqQnmgF/vj5+ZGkqNXvJCwdO3Y0e32AYfH06VP1JMzEiRPVPZ+MGTPu2LFDbcQs48tCYg0YCsRqxjrDK4wgqb9x48bLly+1jwwiFy9e1J+JqFu3rum0JOS0bdtWVUicODHibrZBaCiai0ZDy/AjKqkkaJElqMZ89uxZOAouRELNxeQeO3Ysbdq0uMLQejUi7Ub4VM2oSJkyJQ2rFfvDIDF+JuLatWsBZJFYPmTIEPXyxpgxY3bo0MHsyjOqPXnyhPFz8+ZNJimVGVqZM2dm2KtxxaizdM/tO8bemkvnDR48WEkk6f+2bdu0AgN00qZNm3IZXq1LXxJIbbk40KVLF4Inu9SpUydSvVwDse7UqZOaGxiTAG1FrFq6dKmaGHHixMEIM8q1MgswN5QP4pgLFiwg5GgF4U0k1FzinNJH+o5Uj84NOWSHo0ePNv7pB6xuyZIlAzzXxyTdsmWL/uwve2FxtDIDBw8eJBNV+ZCnp+euXbsCVAgA/aUuaxA/KleuHBIn9B1gb82FDRs2qGUrRDzjl73S0wyLRo0aUUR/u7u7r127NkCANeXff/8tUqSI0p3hw4dHtifxp0+fniZNGr578eLFjX+Sh2Y5dOgQmQRFJA0VKlSw/kSJggZPly4du2Cvdu/eHWjjUyGEaAcKjMimuXQf/ZU+fXq+r6OjI0lMvVDCw8NDGRSd5MmTm67sJolMkSKFynjWr19vfA/g7t27Xl5e6nXmefLkYQoHmqidP39e3cUh2cIga1sjK+Ggubdv327cuDGqGjt27IEDB6rkgtCHRe3Zsyd9iYDSlwsXLmTkqV2sgDVT1yvZa926deGbAtsfZqb6gU5UctKkScpu0G54k5YtW9ImpAtMswD5hCX69eun1t5XrVrV7A9t6WCBMTtjxoz5PWRwhCNHjgSaYEY2zcU69OnTR33fsIaZWKJECT+TH4pu1qyZWjLYrVs3fWkX1Ziz6pXW2bJlmzFjhqXnSHWY2sRvdQONURpeT9lEHMJBcz99+rRs2TK1bKVUqVJEUdR27969Xbt2xbIhxDjcP/74w8bEduXKlepKhbOz88mTJ223Tt8Hr169QmoxREyP6tWrHzhwgMYkMWzevHmCBAnixo1bvnz51atX29Is9At2WGWUffv2tb4y99GjR71796ZmyAn0syBSaS4h8/Dhw8YvgQtrmEGmTycRzvPmzRs1atTs2bMzSW/cuHH8+PFBgwYhuGzMnTs3PWKq1Ka8efNm3rx5fAquOWfOnBFkxXc4Eg6aCy9evBg9ejRpLKLAFGrTpk3p0qUTJUpEOkP6s2bNGtuXJfn4+KjrU7Vq1cLzalsjE+R6yBZNR+KGwtKYRYoUiRUrFkEIqxvotTYdjqPeVsyMImG0HvNIJ1etWtWoUaMGIYMjLF++PNAV8pFKc4mjs2fPVl/WPsSIEYNwq328EQsWLMicOXOUKFFIldq2bVutWrWECROSCVWqVGnp0qWBOlyFXMwNQPhoLjDDJ0yYQOe5ubnlyZOnaNGiNWvWHDp06IULF7QaNoA1K1y4sLqYO2LECBsHwffHxYsXBwwYQNKQL18+vImnpydyNnHixCBp04YNG9SlYYzMvn37ArXGSPnbt28JnyGB4GpLSIhUmkubkKkQjexGkyZN+vXrp328ER8/fiSLqlKlSsGCBTG2xPKqVasS4M+cOUORVikwqIwVoONw04MHD9a2RmLCTXOBiXTt2rWtW7euW7fuyJEjjx8/DmoMvHfvnlqVjTXbuHEjB1Tb0eLTp0+fP3/edr/8rfP69Wu+r6+vL9J58uRJK79OaAn9BVEEQuNH2h49enTs2DHTxb/2JFJpbkTjxo0bO3bsWL169cGDB/38/JhcWoENELnZVz1Tmj59esanVuC/GA5F1v4faQhPzQ0569evV/dPsWZnz57VrRlSTvTu3bu32UdoBFOIdpgRsj8as0+fPvq7+/7999+5c+dSRC4ZjtfKRXO/Ud6/fz9//nx67YcffnB1ddUjN+MNKScz8/HxCcdxFS5825o7ZMgQ9QRa9erV9UfO3r17N2zYMBcXF0oDXZEqKF6+fJkxY0aDpjksWbJEX0hw6dKlcuXKkVda+TkPOyCa+42i1jnQa9GjRyd/0hPZF4Z30seKFSvYD2F+u3zbmtuhQwf1xFrPnj0fG95Sii8jl8mTJ4+np+ehQ4ciW3cGGyKWWg0aNWrUPXv2qHZTK5ayZMnCtLHlDnXYQQwYP378F8V1cChSpEjkvFn6LcK46ty5M72WKFGirl27qo24os2bN//888+//PJLJLwH821r7rhx49SiBbqT3qX/1CsIMmXKtGjRoshzMTfkvHr1ikAVJUoU8oatW7die2nPMWPGsLFu3brHjx/X6tmR58+fk36qN9vu3LmzWbNmBsl1IAbMmzfv/PnzV65cuXbtmp7fCBEQwvaIESN+/PFHJycnb2/v169fk3pu2bKlUKFC2bNnj5xrdb9tzT19+rSrq6ujo2PevHmnTJkycuTIXLlyZcuWbe7cucG4iRTJ6dWrV+rUqZHd9u3bz5o1q2nTppkzZ0Zwjx49Gi7re9auXcunly1bFmPr7OxML5OfAn8kTJjQzc2tVKlSFStWJNfRdhAiHp8+fUJh8UDko0zVBQsWDBo0yMXFhXlq6d3Z3z3ftuaCr69v6dKl6dQ0adKQHZcrV27Tpk0heW1upAVv269fv/z58yNwadOmpUk7dep0+fLl8Lo+s3z5ck9Pz9y5c+OJihUrVrJkSfSX/qW7PTw8SEsJtEzdxo0bazsIERJSKOSVrsyQIQOTlHFFpJTfifi2QRRu3ry5f//+Cxcu2Pj0mmCJN2/enDhxAm/78OHDIK0KEgQrfPz48caNG/v27bty5UokH1ffg+YKgiB8K4jmCoIg2A/RXEEQBPshmisIgmA/RHMFQRDsh2iuIAiC/RDNFQRBsB+iuYIgCPZDNFcQBMF+iOYKgiDYD9FcQRAE+yGaKwiCYD9EcwVBEOyHaK4gCIL9EM0VBEGwH6K5giAI9kM0VxAEwX6I5gqCINgP0VxBEAT7IZorCIJgP0RzBUEQ7IdoriAIgv0QzRUEQbAformCIAj2QzRXEATBfojmCoIg2A/RXEEQBPshmisIgmAv/u///h+FoT9tAHw9wgAAAABJRU5ErkJggg==)"
      ]
    },
    {
      "cell_type": "code",
      "execution_count": null,
      "metadata": {
        "id": "EjQT8WypxtJj"
      },
      "outputs": [],
      "source": [
        "class AdaDelta(Optimizer):\n",
        "    def __init__(self, params, eta=1e-8, gamma=0.9):\n",
        "        super().__init__(params)\n",
        "        pass\n",
        "\n",
        "    def step(self):\n",
        "        pass"
      ]
    },
    {
      "cell_type": "markdown",
      "metadata": {
        "id": "lZmACcvCzKzg"
      },
      "source": [
        "#### Adam\n",
        "![Adam.png](data:image/png;base64,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)"
      ]
    },
    {
      "cell_type": "code",
      "execution_count": null,
      "metadata": {
        "id": "3G9UavpDH6sk"
      },
      "outputs": [],
      "source": [
        "class Adam(Optimizer):\n",
        "    def __init__(self, params, b1, b2):\n",
        "        super().__init__(params)\n",
        "        pass\n",
        "\n",
        "    def step(self):\n",
        "        pass"
      ]
    },
    {
      "cell_type": "markdown",
      "metadata": {
        "id": "8CksndVUR4Lz",
        "tags": []
      },
      "source": [
        "### 1.2 Сравните реализованные методы на предложенном примере **(1 балл)**"
      ]
    },
    {
      "cell_type": "code",
      "execution_count": null,
      "metadata": {
        "id": "aCGYqH1BR4Lz"
      },
      "outputs": [],
      "source": [
        "from functools import partial\n",
        "\n",
        "points, losses = optimize_function(partial(loss_animator.loss_func, loss=mse), AdaDelta, {'eta': 1e-8}, start_point=[-4, -4], num_iter=100)"
      ]
    },
    {
      "cell_type": "code",
      "execution_count": null,
      "metadata": {
        "colab": {
          "base_uri": "https://localhost:8080/",
          "height": 916
        },
        "id": "9Dtbv1CHVpka",
        "outputId": "499e5ab8-1d07-45ad-86e5-9ca2195b6ec0"
      },
      "outputs": [],
      "source": [
        "compare_optimizers(\n",
        "    loss_animator,\n",
        "    mse,\n",
        "    [\n",
        "        ['SGD', SGD, {...}],\n",
        "        ['Momentum', Momentum, {...}],\n",
        "        ['AdaGrad', AdaGrad, {...}],\n",
        "        ['AdaDelta', AdaDelta, {...}],\n",
        "        ['Adam', AdaDelta, {...}],\n",
        "     ],\n",
        "    start_point=[-4, -4],\n",
        "    num_iter=100\n",
        ")"
      ]
    },
    {
      "cell_type": "markdown",
      "metadata": {
        "id": "RrazurxkR4Lz"
      },
      "source": [
        "##  Часть 2: Обучение нейронной сети"
      ]
    },
    {
      "cell_type": "markdown",
      "metadata": {
        "id": "izYmKPgPR4Lz"
      },
      "source": [
        "### 2.1 Реализуйте сверточную нейронную сеть и обучите ее на MNIST с помощью методов Adam, Adagrad, AdaDelta и SGD. Для обучения используйте оптимизаторы из первой части, а не из pytorch. **(2 балла)**"
      ]
    },
    {
      "cell_type": "markdown",
      "metadata": {
        "id": "oOtLQeT51_K9"
      },
      "source": [
        "Скачайте датасет и реализуйте даталоудеры:"
      ]
    },
    {
      "cell_type": "code",
      "execution_count": null,
      "metadata": {
        "colab": {
          "base_uri": "https://localhost:8080/"
        },
        "id": "NAtcpqL_R4Lz",
        "outputId": "b813ae06-d017-40c0-a918-ecb2fd4ca1e3"
      },
      "outputs": [],
      "source": [
        "!wget www.di.ens.fr/~lelarge/MNIST.tar.gz\n",
        "!tar -zxvf MNIST.tar.gz"
      ]
    },
    {
      "cell_type": "code",
      "execution_count": null,
      "metadata": {
        "id": "JmSVR5AvR4L0"
      },
      "outputs": [],
      "source": [
        "transform = transforms.Compose([\n",
        "   transforms.ToTensor(),\n",
        "   transforms.Normalize((0.1307,), (0.3081,))\n",
        "])\n",
        "\n",
        "train_dataset = datasets.MNIST('.', train=True, download=True, transform=transform)\n",
        "test_dataset = datasets.MNIST('.', train=False, transform=transform)\n",
        "\n",
        "train_loader = torch.utils.data.DataLoader(train_dataset, batch_size=32, shuffle=True)\n",
        "test_loader = torch.utils.data.DataLoader(test_dataset, batch_size=32, shuffle=True)"
      ]
    },
    {
      "cell_type": "markdown",
      "metadata": {
        "id": "TDkRPsOI2gzZ"
      },
      "source": [
        "Реализуйте сверточную нейронную нейронную сеть по шаблону:\n",
        "\n",
        "* Используйте сверточные (nn.Conv2d) и полносвязные (nn.Linear) слои\n",
        "* Не забудьте преобразовать тензор перед подачей в полносвязный слой (x = x.view(-1, d1), где d1 -- размерность входа первого полносвязного слоя)\n",
        "* Можно использовать dropout (nn.Dropout2d) и функции активации (например, F.relu)\n",
        "* В конце метода forward необходимо использовать F.log_softmax для предсказания класса изображения"
      ]
    },
    {
      "cell_type": "code",
      "execution_count": null,
      "metadata": {
        "id": "klKFNK65LIpH"
      },
      "outputs": [],
      "source": [
        "import torch.nn as nn\n",
        "import torch.nn.functional as F\n",
        "\n",
        "class Net(nn.Module):\n",
        "    def __init__(self):\n",
        "        super(Net, self).__init__()\n",
        "        # Your code here\n",
        "        # Use nn.Conv2d and nn.Linear layers\n",
        "\n",
        "    def forward(self, x):\n",
        "        # Your code here\n",
        "        # x.view\n",
        "        return F.log_softmax(x)"
      ]
    },
    {
      "cell_type": "code",
      "execution_count": null,
      "metadata": {
        "id": "pySWrhYcMPwO"
      },
      "outputs": [],
      "source": [
        "network = Net()\n",
        "optimizer = # Your code here"
      ]
    },
    {
      "cell_type": "markdown",
      "metadata": {
        "id": "Kzp_3LOg2tUE"
      },
      "source": [
        "Запустите обучение, постройте график лоссов от эпохи:"
      ]
    },
    {
      "cell_type": "code",
      "execution_count": null,
      "metadata": {
        "colab": {
          "base_uri": "https://localhost:8080/"
        },
        "id": "XtUrf8TOLCg0",
        "outputId": "ff007e20-ce69-4c5a-9f9a-ee024a76f76c"
      },
      "outputs": [],
      "source": [
        "losses = []\n",
        "\n",
        "network.train()\n",
        "for batch_idx, (data, target) in enumerate(train_loader):\n",
        "    optimizer.zero_grad()\n",
        "    output = network(data)\n",
        "    loss = F.nll_loss(output, target)\n",
        "    loss.backward()\n",
        "    optimizer.step()\n",
        "\n",
        "\n",
        "    if batch_idx % 100 == 0:\n",
        "        print('Train Epoch: {} [{}/{} ({:.0f}%)]\\tLoss: {:.6f}'.format(\n",
        "        1, batch_idx * len(data), len(train_loader.dataset),\n",
        "         100. * batch_idx / len(train_loader), loss.item()))\n",
        "        losses.append(loss.item())"
      ]
    },
    {
      "cell_type": "markdown",
      "metadata": {
        "id": "uzd0R3iuR4L0"
      },
      "source": [
        "### 2.2 Сравните графики обучения для нейросети на методах Adam, Adagrad, AdaDelta и SGD. **(1 балл)**"
      ]
    },
    {
      "cell_type": "code",
      "execution_count": null,
      "metadata": {
        "id": "rR8VEh_53yUr"
      },
      "outputs": [],
      "source": [
        "# Your code here"
      ]
    },
    {
      "cell_type": "markdown",
      "metadata": {
        "id": "ssG3b0a2R4L0"
      },
      "source": [
        "#### Feedback (опционально)"
      ]
    },
    {
      "cell_type": "markdown",
      "metadata": {
        "id": "9W0-fm1nR4L0"
      },
      "source": [
        "Здесь вы можете оставить список опечаток из лекции или семинара:"
      ]
    },
    {
      "cell_type": "raw",
      "metadata": {
        "id": "U_JSrJ2hR4L0"
      },
      "source": []
    },
    {
      "cell_type": "markdown",
      "metadata": {
        "id": "CfiHhdslR4L0"
      },
      "source": [
        "Здесь вы можете оставить комментарии по лекции или семинару:"
      ]
    },
    {
      "cell_type": "raw",
      "metadata": {
        "id": "-7nlwZscR4L0"
      },
      "source": []
    }
  ],
  "metadata": {
    "colab": {
      "provenance": []
    },
    "kernelspec": {
      "display_name": "ml",
      "language": "python",
      "name": "python3"
    },
    "language_info": {
      "codemirror_mode": {
        "name": "ipython",
        "version": 3
      },
      "file_extension": ".py",
      "mimetype": "text/x-python",
      "name": "python",
      "nbconvert_exporter": "python",
      "pygments_lexer": "ipython3",
      "version": "3.9.16 (main, Dec  7 2022, 10:16:11) \n[Clang 14.0.0 (clang-1400.0.29.202)]"
    },
    "latex_envs": {
      "bibliofile": "biblio.bib",
      "cite_by": "apalike",
      "current_citInitial": 1,
      "eqLabelWithNumbers": true,
      "eqNumInitial": 0
    },
    "vscode": {
      "interpreter": {
        "hash": "87f2c61721633f38491d53c2bfdcc0361799add3518de6ab4d9ab97e249bd1f3"
      }
    }
  },
  "nbformat": 4,
  "nbformat_minor": 0
}
