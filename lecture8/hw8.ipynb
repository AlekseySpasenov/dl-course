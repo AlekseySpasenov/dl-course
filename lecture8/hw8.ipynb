{
 "cells": [
  {
   "cell_type": "markdown",
   "id": "ef544653",
   "metadata": {},
   "source": [
    "## Дз 8: \"Metric learning\""
   ]
  },
  {
   "cell_type": "markdown",
   "id": "f6b30ced",
   "metadata": {},
   "source": [
    "## Цель задания:\n",
    "Познакомится с алгоритмами metric learning\n",
    "## Описание задания:\n",
    "В рамках данного домашнего задания предлагается решить задачу поиска похожего автомобиля в базе данных (автомобиля того же класса). На основе датасета [cars196](https://paperswithcode.com/sota/metric-learning-on-cars196) , ссылка на данные [мета](https://drive.google.com/file/d/1PD-lbbcKSelDeAYKafe3boc5mqqEe7X7/view?usp=sharing) [data](https://drive.google.com/file/d/1l9EnYMC-xGX706SY1kN8RceMmFViASfx/view?usp=sharing).\n",
    "\n",
    "Процесс выполнения задания следующий:\n",
    "\n",
    "0. Выбор модели эмбеддера:\n",
    "    1. Выберите модель кодирующую изображения для выполнения домашнего задания. Любую, кроме модели resnet50.\n",
    "\n",
    "1. Подготовка обучающего набора данных\n",
    "    1. Реализуйте корректный класс Dataset и Dataloader для выбранной модели (должен работать форвард вашей модели на том, что выходит из даталоадера).\n",
    "    2. Добавьте аугментации в датасет **0.5 балла**.\n",
    "\n",
    "2. Реализация корректного train-loop и обучение модели:  \n",
    "    1. Реализуйте train-loop для вашей модели и проведите обучение c Triplet loss **2 балла**.\n",
    "    2. При формировании триплета не просто брать отрицательный класс, а воспользоваться техникой hard negative mining **0.5 балла**.\n",
    "    3. Обучите модель и воcпользуйте иными loss функциями для задачи metric learning **0.5 балла**.\n",
    "    4. Полезные ссылки [тык](https://github.com/KevinMusgrave/pytorch-metric-learning)\n",
    " \n",
    "3. Валидация обученных моделей на тестовой выборке, вычисление метрики Recall и Precision\n",
    "    1. Оцените качество моделей на тестовой части данных и рассчитайте метрики поиска Recall@1, Recall@5, Precision@1, Precision@5. Обратите внимание, что для формирования предсказаний на тестовой выборке вы не должны предсказывать напрямую класс объекта, а должны производить поиск на основе получившихся эмбеддингов (пример в [семинаре](metric_learning.ipynb) блок Faiss). **0.5 балла**\n",
    "    2. При поиске воспользоваться библиотекой Faiss **0.5 балла**\n",
    "\n",
    "4. Выводы:\n",
    "    1. Проанализируйте результаты обучения, визуально оцените качество работы модели.\n",
    "    2. Прокомментируйте распространенные ошибки модели и предложите пути для улучшения финального решения.\n",
    "    3. Проинтерпретируйте результаты работы модели с помощью [GradCam](https://github.com/jacobgil/pytorch-grad-cam)  **0.5 балла**\n",
    "\n",
    "## Срок выполнения задания:\n",
    "Данное задание можно сдать без штрафов до 18 марта.\n"
   ]
  },
  {
   "cell_type": "code",
   "execution_count": null,
   "id": "ada2db43",
   "metadata": {},
   "outputs": [],
   "source": []
  }
 ],
 "metadata": {
  "kernelspec": {
   "display_name": "Python 3 (ipykernel)",
   "language": "python",
   "name": "python3"
  },
  "language_info": {
   "codemirror_mode": {
    "name": "ipython",
    "version": 3
   },
   "file_extension": ".py",
   "mimetype": "text/x-python",
   "name": "python",
   "nbconvert_exporter": "python",
   "pygments_lexer": "ipython3",
   "version": "3.7.11"
  }
 },
 "nbformat": 4,
 "nbformat_minor": 5
}
