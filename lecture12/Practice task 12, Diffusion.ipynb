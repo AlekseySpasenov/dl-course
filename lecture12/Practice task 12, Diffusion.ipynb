{
  "cells": [
    {
      "cell_type": "markdown",
      "id": "98dad417",
      "metadata": {
        "id": "98dad417"
      },
      "source": [
        "# Практическое задание по занятию Denosing Diffusional Models"
      ]
    },
    {
      "cell_type": "markdown",
      "id": "6cd938c6",
      "metadata": {
        "id": "6cd938c6"
      },
      "source": [
        "ФИО:"
      ]
    },
    {
      "cell_type": "markdown",
      "id": "ece9576c",
      "metadata": {
        "id": "ece9576c"
      },
      "source": [
        "## Задание\n",
        "\n",
        "0) Скачайте репозиторий git clone https://github.com/awjuliani/pytorch-diffusion.git\n",
        "\n",
        "1) Обучите модель для датасета Fasion MNIST. Продемонстрируйте обратный диффузионный процесс с нескольких random seeds (1 балл)\n",
        "\n",
        "2) Добавьте к обучению DDPM условие на метку с помощью Classifier Free Guidance https://arxiv.org/abs/2207.12598. (2 балла)\n",
        "\n",
        "3) Обучите модель в режиме inpainting. Параграф 4.1 в https://arxiv.org/pdf/2201.09865.pdf . (1 балл)\n"
      ]
    },
    {
      "cell_type": "code",
      "execution_count": null,
      "id": "868d8c15",
      "metadata": {
        "id": "868d8c15"
      },
      "outputs": [],
      "source": [
        "# Your code here"
      ]
    },
    {
      "cell_type": "markdown",
      "id": "ee3f4480",
      "metadata": {
        "id": "ee3f4480"
      },
      "source": [
        "Feedback (опционально)\n",
        "\n",
        "Здесь вы можете оставить список опечаток из лекции или семинара:\n",
        "\n",
        "Здесь вы можете оставить комментарии по лекции или семинару:"
      ]
    }
  ],
  "metadata": {
    "kernelspec": {
      "display_name": "Python 3 (ipykernel)",
      "language": "python",
      "name": "python3"
    },
    "language_info": {
      "codemirror_mode": {
        "name": "ipython",
        "version": 3
      },
      "file_extension": ".py",
      "mimetype": "text/x-python",
      "name": "python",
      "nbconvert_exporter": "python",
      "pygments_lexer": "ipython3",
      "version": "3.8.12"
    },
    "colab": {
      "provenance": []
    }
  },
  "nbformat": 4,
  "nbformat_minor": 5
}